{
 "cells": [
  {
   "cell_type": "code",
   "execution_count": 2,
   "metadata": {},
   "outputs": [
    {
     "name": "stderr",
     "output_type": "stream",
     "text": [
      "<>:4: SyntaxWarning: invalid escape sequence '\\D'\n",
      "<>:7: SyntaxWarning: invalid escape sequence '\\D'\n",
      "<>:4: SyntaxWarning: invalid escape sequence '\\D'\n",
      "<>:7: SyntaxWarning: invalid escape sequence '\\D'\n",
      "C:\\Users\\jawad.iqbal\\AppData\\Local\\Temp\\ipykernel_13872\\2837943426.py:4: SyntaxWarning: invalid escape sequence '\\D'\n",
      "  engine = sa.create_engine(\"mssql+pyodbc:///?odbc_connect= DRIVER={SQL Server};SERVER=mph-eprprddwh1\\DWHPRD;Trusted_Connection=yes;\")\n",
      "C:\\Users\\jawad.iqbal\\AppData\\Local\\Temp\\ipykernel_13872\\2837943426.py:7: SyntaxWarning: invalid escape sequence '\\D'\n",
      "  refs_df = pd.read_sql(open(\"S:\\Data Science\\sandboxes\\Jawad\\patient_LOS_project\\patient_los_elect.sql\").read(), con=conn.connection)\n",
      "C:\\Users\\jawad.iqbal\\AppData\\Local\\Temp\\ipykernel_13872\\2837943426.py:7: UserWarning: pandas only supports SQLAlchemy connectable (engine/connection) or database string URI or sqlite3 DBAPI2 connection. Other DBAPI2 objects are not tested. Please consider using SQLAlchemy.\n",
      "  refs_df = pd.read_sql(open(\"S:\\Data Science\\sandboxes\\Jawad\\patient_LOS_project\\patient_los_elect.sql\").read(), con=conn.connection)\n"
     ]
    }
   ],
   "source": [
    "import pandas as pd\n",
    "import sqlalchemy as sa\n",
    "\n",
    "engine = sa.create_engine(\"mssql+pyodbc:///?odbc_connect= DRIVER={SQL Server};SERVER=mph-eprprddwh1\\DWHPRD;Trusted_Connection=yes;\")\n",
    "\n",
    "with engine.connect() as conn:\n",
    "   refs_df = pd.read_sql(open(\"S:\\Data Science\\sandboxes\\Jawad\\patient_LOS_project\\patient_los_elect.sql\").read(), con=conn.connection)"
   ]
  },
  {
   "cell_type": "code",
   "execution_count": 10,
   "metadata": {},
   "outputs": [],
   "source": [
    "df_elect = refs_df.copy()"
   ]
  },
  {
   "cell_type": "code",
   "execution_count": 11,
   "metadata": {},
   "outputs": [
    {
     "data": {
      "text/plain": [
       "2423"
      ]
     },
     "execution_count": 11,
     "metadata": {},
     "output_type": "execute_result"
    }
   ],
   "source": [
    "len(df_elect)"
   ]
  },
  {
   "cell_type": "code",
   "execution_count": 12,
   "metadata": {},
   "outputs": [
    {
     "data": {
      "text/plain": [
       "admission_datetime          0\n",
       "weekend                     0\n",
       "time_of_day                 0\n",
       "DischargeDestination        0\n",
       "WardAdmission               0\n",
       "Los                         0\n",
       "PriorityType              443\n",
       "IntendedManagement          0\n",
       "AdmissionMethod             0\n",
       "SourceOfAdmission           0\n",
       "em_el_dc                    0\n",
       "EthnicCategory            129\n",
       "AgeOnAdmission              0\n",
       "StartSexofPatientsCode      0\n",
       "PrimaryDiagnosisICD         0\n",
       "Description                 0\n",
       "Chapter_Number              0\n",
       "Chapter_Description         0\n",
       "IMD_Decile                  0\n",
       "dtype: int64"
      ]
     },
     "execution_count": 12,
     "metadata": {},
     "output_type": "execute_result"
    }
   ],
   "source": [
    "refs_df.isna().sum()"
   ]
  },
  {
   "cell_type": "code",
   "execution_count": 13,
   "metadata": {},
   "outputs": [
    {
     "data": {
      "text/html": [
       "<div>\n",
       "<style scoped>\n",
       "    .dataframe tbody tr th:only-of-type {\n",
       "        vertical-align: middle;\n",
       "    }\n",
       "\n",
       "    .dataframe tbody tr th {\n",
       "        vertical-align: top;\n",
       "    }\n",
       "\n",
       "    .dataframe thead th {\n",
       "        text-align: right;\n",
       "    }\n",
       "</style>\n",
       "<table border=\"1\" class=\"dataframe\">\n",
       "  <thead>\n",
       "    <tr style=\"text-align: right;\">\n",
       "      <th></th>\n",
       "      <th>admission_datetime</th>\n",
       "      <th>weekend</th>\n",
       "      <th>time_of_day</th>\n",
       "      <th>DischargeDestination</th>\n",
       "      <th>WardAdmission</th>\n",
       "      <th>Los</th>\n",
       "      <th>PriorityType</th>\n",
       "      <th>IntendedManagement</th>\n",
       "      <th>AdmissionMethod</th>\n",
       "      <th>SourceOfAdmission</th>\n",
       "      <th>em_el_dc</th>\n",
       "      <th>EthnicCategory</th>\n",
       "      <th>AgeOnAdmission</th>\n",
       "      <th>StartSexofPatientsCode</th>\n",
       "      <th>PrimaryDiagnosisICD</th>\n",
       "      <th>Description</th>\n",
       "      <th>Chapter_Number</th>\n",
       "      <th>Chapter_Description</th>\n",
       "      <th>IMD_Decile</th>\n",
       "    </tr>\n",
       "  </thead>\n",
       "  <tbody>\n",
       "    <tr>\n",
       "      <th>0</th>\n",
       "      <td>2018-01-08 12:21:38.173</td>\n",
       "      <td>1</td>\n",
       "      <td>Afternoon</td>\n",
       "      <td>19</td>\n",
       "      <td>Cardiac Catheter Laboratory</td>\n",
       "      <td>0</td>\n",
       "      <td>2.4</td>\n",
       "      <td>2</td>\n",
       "      <td>11</td>\n",
       "      <td>19</td>\n",
       "      <td>ELECT</td>\n",
       "      <td>A</td>\n",
       "      <td>58</td>\n",
       "      <td>1</td>\n",
       "      <td>R074</td>\n",
       "      <td>Chest pain, unspecified</td>\n",
       "      <td>18</td>\n",
       "      <td>Symptoms, signs and abnormal clinical and labo...</td>\n",
       "      <td>3.0</td>\n",
       "    </tr>\n",
       "    <tr>\n",
       "      <th>1</th>\n",
       "      <td>2018-01-10 13:39:07.307</td>\n",
       "      <td>0</td>\n",
       "      <td>Afternoon</td>\n",
       "      <td>19</td>\n",
       "      <td>Cardiac Catheter Laboratory</td>\n",
       "      <td>0</td>\n",
       "      <td>None</td>\n",
       "      <td>4</td>\n",
       "      <td>13</td>\n",
       "      <td>19</td>\n",
       "      <td>ELECT</td>\n",
       "      <td>A</td>\n",
       "      <td>73</td>\n",
       "      <td>2</td>\n",
       "      <td>I480</td>\n",
       "      <td>Paroxysmal atrial fibrillation</td>\n",
       "      <td>9</td>\n",
       "      <td>Diseases of the circulatory system</td>\n",
       "      <td>4.0</td>\n",
       "    </tr>\n",
       "    <tr>\n",
       "      <th>2</th>\n",
       "      <td>2018-02-09 08:25:37.413</td>\n",
       "      <td>0</td>\n",
       "      <td>Morning</td>\n",
       "      <td>19</td>\n",
       "      <td>Cardiac Catheter Laboratory</td>\n",
       "      <td>2</td>\n",
       "      <td>None</td>\n",
       "      <td>2</td>\n",
       "      <td>13</td>\n",
       "      <td>19</td>\n",
       "      <td>ELECT</td>\n",
       "      <td>A</td>\n",
       "      <td>69</td>\n",
       "      <td>1</td>\n",
       "      <td>I240</td>\n",
       "      <td>Coronary thrombosis not resulting in myocardia...</td>\n",
       "      <td>9</td>\n",
       "      <td>Diseases of the circulatory system</td>\n",
       "      <td>7.0</td>\n",
       "    </tr>\n",
       "    <tr>\n",
       "      <th>3</th>\n",
       "      <td>2018-02-14 12:25:45.660</td>\n",
       "      <td>0</td>\n",
       "      <td>Afternoon</td>\n",
       "      <td>19</td>\n",
       "      <td>Cardiac Catheter Laboratory</td>\n",
       "      <td>2</td>\n",
       "      <td>1.3</td>\n",
       "      <td>1</td>\n",
       "      <td>11</td>\n",
       "      <td>19</td>\n",
       "      <td>ELECT</td>\n",
       "      <td>A</td>\n",
       "      <td>80</td>\n",
       "      <td>2</td>\n",
       "      <td>I442</td>\n",
       "      <td>Atrioventricular block, complete</td>\n",
       "      <td>9</td>\n",
       "      <td>Diseases of the circulatory system</td>\n",
       "      <td>8.0</td>\n",
       "    </tr>\n",
       "    <tr>\n",
       "      <th>4</th>\n",
       "      <td>2018-02-14 12:25:45.660</td>\n",
       "      <td>0</td>\n",
       "      <td>Afternoon</td>\n",
       "      <td>19</td>\n",
       "      <td>Cardiac Catheter Laboratory</td>\n",
       "      <td>2</td>\n",
       "      <td>2.8</td>\n",
       "      <td>1</td>\n",
       "      <td>11</td>\n",
       "      <td>19</td>\n",
       "      <td>ELECT</td>\n",
       "      <td>A</td>\n",
       "      <td>80</td>\n",
       "      <td>2</td>\n",
       "      <td>I442</td>\n",
       "      <td>Atrioventricular block, complete</td>\n",
       "      <td>9</td>\n",
       "      <td>Diseases of the circulatory system</td>\n",
       "      <td>8.0</td>\n",
       "    </tr>\n",
       "  </tbody>\n",
       "</table>\n",
       "</div>"
      ],
      "text/plain": [
       "       admission_datetime  weekend time_of_day DischargeDestination  \\\n",
       "0 2018-01-08 12:21:38.173        1   Afternoon                   19   \n",
       "1 2018-01-10 13:39:07.307        0   Afternoon                   19   \n",
       "2 2018-02-09 08:25:37.413        0     Morning                   19   \n",
       "3 2018-02-14 12:25:45.660        0   Afternoon                   19   \n",
       "4 2018-02-14 12:25:45.660        0   Afternoon                   19   \n",
       "\n",
       "                  WardAdmission  Los PriorityType IntendedManagement  \\\n",
       "0  Cardiac Catheter Laboratory     0          2.4                  2   \n",
       "1  Cardiac Catheter Laboratory     0         None                  4   \n",
       "2  Cardiac Catheter Laboratory     2         None                  2   \n",
       "3  Cardiac Catheter Laboratory     2          1.3                  1   \n",
       "4  Cardiac Catheter Laboratory     2          2.8                  1   \n",
       "\n",
       "  AdmissionMethod SourceOfAdmission em_el_dc EthnicCategory AgeOnAdmission  \\\n",
       "0              11                19    ELECT              A             58   \n",
       "1              13                19    ELECT              A             73   \n",
       "2              13                19    ELECT              A             69   \n",
       "3              11                19    ELECT              A             80   \n",
       "4              11                19    ELECT              A             80   \n",
       "\n",
       "  StartSexofPatientsCode PrimaryDiagnosisICD  \\\n",
       "0                      1              R074     \n",
       "1                      2              I480     \n",
       "2                      1              I240     \n",
       "3                      2              I442     \n",
       "4                      2              I442     \n",
       "\n",
       "                                         Description  Chapter_Number  \\\n",
       "0                            Chest pain, unspecified              18   \n",
       "1                     Paroxysmal atrial fibrillation               9   \n",
       "2  Coronary thrombosis not resulting in myocardia...               9   \n",
       "3                   Atrioventricular block, complete               9   \n",
       "4                   Atrioventricular block, complete               9   \n",
       "\n",
       "                                 Chapter_Description  IMD_Decile  \n",
       "0  Symptoms, signs and abnormal clinical and labo...         3.0  \n",
       "1                 Diseases of the circulatory system         4.0  \n",
       "2                 Diseases of the circulatory system         7.0  \n",
       "3                 Diseases of the circulatory system         8.0  \n",
       "4                 Diseases of the circulatory system         8.0  "
      ]
     },
     "execution_count": 13,
     "metadata": {},
     "output_type": "execute_result"
    }
   ],
   "source": [
    "df_elect.head(5)"
   ]
  },
  {
   "cell_type": "code",
   "execution_count": 18,
   "metadata": {},
   "outputs": [
    {
     "data": {
      "text/plain": [
       "<Axes: xlabel='Los', ylabel='Count'>"
      ]
     },
     "execution_count": 18,
     "metadata": {},
     "output_type": "execute_result"
    },
    {
     "data": {
      "image/png": "[encoded data removed]",
      "text/plain": [
       "<Figure size 640x480 with 1 Axes>"
      ]
     },
     "metadata": {},
     "output_type": "display_data"
    }
   ],
   "source": [
    "import seaborn as sns\n",
    "sns.histplot(df_elect['Los'], bins=30, kde=True)\n"
   ]
  },
  {
   "cell_type": "code",
   "execution_count": 73,
   "metadata": {},
   "outputs": [],
   "source": [
    "data['time_of_day'] = data['time_of_day'].map({'Morning':1, 'Afternoon':2, 'Evening':3, 'Midnight':4})"
   ]
  },
  {
   "cell_type": "code",
   "execution_count": 74,
   "metadata": {},
   "outputs": [
    {
     "data": {
      "text/html": [
       "<div>\n",
       "<style scoped>\n",
       "    .dataframe tbody tr th:only-of-type {\n",
       "        vertical-align: middle;\n",
       "    }\n",
       "\n",
       "    .dataframe tbody tr th {\n",
       "        vertical-align: top;\n",
       "    }\n",
       "\n",
       "    .dataframe thead th {\n",
       "        text-align: right;\n",
       "    }\n",
       "</style>\n",
       "<table border=\"1\" class=\"dataframe\">\n",
       "  <thead>\n",
       "    <tr style=\"text-align: right;\">\n",
       "      <th></th>\n",
       "      <th>admission_datetime</th>\n",
       "      <th>weekend</th>\n",
       "      <th>time_of_day</th>\n",
       "      <th>WardAdmission</th>\n",
       "      <th>Los</th>\n",
       "      <th>PriorityType</th>\n",
       "      <th>IntendedManagement</th>\n",
       "      <th>AdmissionMethod</th>\n",
       "      <th>SourceOfAdmission</th>\n",
       "      <th>em_el_dc</th>\n",
       "      <th>EthnicCategory</th>\n",
       "      <th>AgeOnAdmission</th>\n",
       "      <th>StartSexofPatientsCode</th>\n",
       "      <th>PrimaryDiagnosisICD</th>\n",
       "      <th>Description</th>\n",
       "      <th>Chapter_Number</th>\n",
       "      <th>Chapter_Description</th>\n",
       "      <th>IMD_Decile</th>\n",
       "    </tr>\n",
       "  </thead>\n",
       "  <tbody>\n",
       "    <tr>\n",
       "      <th>0</th>\n",
       "      <td>2022-05-12 08:23:00.000</td>\n",
       "      <td>0</td>\n",
       "      <td>1</td>\n",
       "      <td>Cardiac Catheter Laboratory</td>\n",
       "      <td>0</td>\n",
       "      <td>3</td>\n",
       "      <td>2</td>\n",
       "      <td>11</td>\n",
       "      <td>19</td>\n",
       "      <td>ELECT</td>\n",
       "      <td>A</td>\n",
       "      <td>76</td>\n",
       "      <td>1</td>\n",
       "      <td>I251</td>\n",
       "      <td>Atherosclerotic heart disease</td>\n",
       "      <td>9</td>\n",
       "      <td>Diseases of the circulatory system</td>\n",
       "      <td>5.0</td>\n",
       "    </tr>\n",
       "    <tr>\n",
       "      <th>1</th>\n",
       "      <td>2021-01-25 12:35:44.307</td>\n",
       "      <td>1</td>\n",
       "      <td>2</td>\n",
       "      <td>Cardiac Catheter Laboratory</td>\n",
       "      <td>0</td>\n",
       "      <td>1.3</td>\n",
       "      <td>1</td>\n",
       "      <td>11</td>\n",
       "      <td>19</td>\n",
       "      <td>ELECT</td>\n",
       "      <td>A</td>\n",
       "      <td>64</td>\n",
       "      <td>1</td>\n",
       "      <td>I251</td>\n",
       "      <td>Atherosclerotic heart disease</td>\n",
       "      <td>9</td>\n",
       "      <td>Diseases of the circulatory system</td>\n",
       "      <td>8.0</td>\n",
       "    </tr>\n",
       "    <tr>\n",
       "      <th>2</th>\n",
       "      <td>2023-10-06 08:15:00.000</td>\n",
       "      <td>0</td>\n",
       "      <td>1</td>\n",
       "      <td>Cardiac Catheter Laboratory</td>\n",
       "      <td>1</td>\n",
       "      <td>2.8</td>\n",
       "      <td>2</td>\n",
       "      <td>11</td>\n",
       "      <td>19</td>\n",
       "      <td>ELECT</td>\n",
       "      <td>A</td>\n",
       "      <td>74</td>\n",
       "      <td>2</td>\n",
       "      <td>I251</td>\n",
       "      <td>Atherosclerotic heart disease</td>\n",
       "      <td>9</td>\n",
       "      <td>Diseases of the circulatory system</td>\n",
       "      <td>6.0</td>\n",
       "    </tr>\n",
       "    <tr>\n",
       "      <th>7</th>\n",
       "      <td>2022-05-19 11:49:28.730</td>\n",
       "      <td>0</td>\n",
       "      <td>1</td>\n",
       "      <td>Cardiac Catheter Laboratory</td>\n",
       "      <td>1</td>\n",
       "      <td>1.3</td>\n",
       "      <td>2</td>\n",
       "      <td>11</td>\n",
       "      <td>19</td>\n",
       "      <td>ELECT</td>\n",
       "      <td>A</td>\n",
       "      <td>67</td>\n",
       "      <td>2</td>\n",
       "      <td>I251</td>\n",
       "      <td>Atherosclerotic heart disease</td>\n",
       "      <td>9</td>\n",
       "      <td>Diseases of the circulatory system</td>\n",
       "      <td>8.0</td>\n",
       "    </tr>\n",
       "    <tr>\n",
       "      <th>9</th>\n",
       "      <td>2023-12-04 11:18:10.743</td>\n",
       "      <td>1</td>\n",
       "      <td>1</td>\n",
       "      <td>Montacute Ward</td>\n",
       "      <td>18</td>\n",
       "      <td>3</td>\n",
       "      <td>1</td>\n",
       "      <td>11</td>\n",
       "      <td>19</td>\n",
       "      <td>ELECT</td>\n",
       "      <td>A</td>\n",
       "      <td>70</td>\n",
       "      <td>1</td>\n",
       "      <td>I214</td>\n",
       "      <td>Acute subendocardial myocardial infarction</td>\n",
       "      <td>9</td>\n",
       "      <td>Diseases of the circulatory system</td>\n",
       "      <td>7.0</td>\n",
       "    </tr>\n",
       "  </tbody>\n",
       "</table>\n",
       "</div>"
      ],
      "text/plain": [
       "       admission_datetime  weekend  time_of_day                 WardAdmission  \\\n",
       "0 2022-05-12 08:23:00.000        0            1  Cardiac Catheter Laboratory    \n",
       "1 2021-01-25 12:35:44.307        1            2  Cardiac Catheter Laboratory    \n",
       "2 2023-10-06 08:15:00.000        0            1  Cardiac Catheter Laboratory    \n",
       "7 2022-05-19 11:49:28.730        0            1  Cardiac Catheter Laboratory    \n",
       "9 2023-12-04 11:18:10.743        1            1                Montacute Ward   \n",
       "\n",
       "   Los PriorityType IntendedManagement AdmissionMethod SourceOfAdmission  \\\n",
       "0    0          3                    2              11                19   \n",
       "1    0          1.3                  1              11                19   \n",
       "2    1          2.8                  2              11                19   \n",
       "7    1          1.3                  2              11                19   \n",
       "9   18          3                    1              11                19   \n",
       "\n",
       "  em_el_dc EthnicCategory AgeOnAdmission StartSexofPatientsCode  \\\n",
       "0    ELECT              A             76                      1   \n",
       "1    ELECT              A             64                      1   \n",
       "2    ELECT              A             74                      2   \n",
       "7    ELECT              A             67                      2   \n",
       "9    ELECT              A             70                      1   \n",
       "\n",
       "  PrimaryDiagnosisICD                                 Description  \\\n",
       "0              I251                 Atherosclerotic heart disease   \n",
       "1              I251                 Atherosclerotic heart disease   \n",
       "2              I251                 Atherosclerotic heart disease   \n",
       "7              I251                 Atherosclerotic heart disease   \n",
       "9              I214    Acute subendocardial myocardial infarction   \n",
       "\n",
       "   Chapter_Number                 Chapter_Description  IMD_Decile  \n",
       "0               9  Diseases of the circulatory system         5.0  \n",
       "1               9  Diseases of the circulatory system         8.0  \n",
       "2               9  Diseases of the circulatory system         6.0  \n",
       "7               9  Diseases of the circulatory system         8.0  \n",
       "9               9  Diseases of the circulatory system         7.0  "
      ]
     },
     "execution_count": 74,
     "metadata": {},
     "output_type": "execute_result"
    }
   ],
   "source": [
    "data.head(5)"
   ]
  },
  {
   "cell_type": "code",
   "execution_count": 75,
   "metadata": {},
   "outputs": [],
   "source": [
    "\n",
    "data['month'] = data['admission_datetime'].dt.to_period('M').dt.to_timestamp()"
   ]
  },
  {
   "cell_type": "code",
   "execution_count": 76,
   "metadata": {},
   "outputs": [],
   "source": [
    "avg_los_month = data.groupby('month')['Los'].mean().reset_index()\n",
    "avg_los_month1 = data.groupby('month')['Los'].median().reset_index()"
   ]
  },
  {
   "cell_type": "code",
   "execution_count": 77,
   "metadata": {},
   "outputs": [
    {
     "data": {
      "application/vnd.plotly.v1+json": {
       "config": {
        "plotlyServerURL": "https://plot.ly"
       },
       "data": [
        {
         "line": {
          "shape": "spline"
         },
         "mode": "lines+markers",
         "name": "Average LOS mean",
         "type": "scatter",
         "x": [
          "2020-01-01T00:00:00.000000000",
          "2020-02-01T00:00:00.000000000",
          "2020-03-01T00:00:00.000000000",
          "2020-04-01T00:00:00.000000000",
          "2020-05-01T00:00:00.000000000",
          "2020-06-01T00:00:00.000000000",
          "2020-07-01T00:00:00.000000000",
          "2020-08-01T00:00:00.000000000",
          "2020-09-01T00:00:00.000000000",
          "2020-10-01T00:00:00.000000000",
          "2020-11-01T00:00:00.000000000",
          "2020-12-01T00:00:00.000000000",
          "2021-01-01T00:00:00.000000000",
          "2021-02-01T00:00:00.000000000",
          "2021-03-01T00:00:00.000000000",
          "2021-04-01T00:00:00.000000000",
          "2021-05-01T00:00:00.000000000",
          "2021-06-01T00:00:00.000000000",
          "2021-07-01T00:00:00.000000000",
          "2021-08-01T00:00:00.000000000",
          "2021-09-01T00:00:00.000000000",
          "2021-10-01T00:00:00.000000000",
          "2021-11-01T00:00:00.000000000",
          "2021-12-01T00:00:00.000000000",
          "2022-01-01T00:00:00.000000000",
          "2022-02-01T00:00:00.000000000",
          "2022-03-01T00:00:00.000000000",
          "2022-04-01T00:00:00.000000000",
          "2022-05-01T00:00:00.000000000",
          "2022-06-01T00:00:00.000000000",
          "2022-07-01T00:00:00.000000000",
          "2022-08-01T00:00:00.000000000",
          "2022-09-01T00:00:00.000000000",
          "2022-10-01T00:00:00.000000000",
          "2022-11-01T00:00:00.000000000",
          "2022-12-01T00:00:00.000000000",
          "2023-01-01T00:00:00.000000000",
          "2023-02-01T00:00:00.000000000",
          "2023-03-01T00:00:00.000000000",
          "2023-04-01T00:00:00.000000000",
          "2023-05-01T00:00:00.000000000",
          "2023-06-01T00:00:00.000000000",
          "2023-07-01T00:00:00.000000000",
          "2023-08-01T00:00:00.000000000",
          "2023-09-01T00:00:00.000000000",
          "2023-10-01T00:00:00.000000000",
          "2023-11-01T00:00:00.000000000",
          "2023-12-01T00:00:00.000000000",
          "2024-01-01T00:00:00.000000000"
         ],
         "y": {
          "bdata": "AAAAAAAA8D/DMAzDMAwPQDMzMzMzM/M/JUmSJEmS9D/NzMzMzMw1QNu2bdu2beM/AAAAAAAA4D9fQnsJ7SUQQKuqqqqqqtI/o4suuuiiC0AlSZIkSZIEQJ7YiZ3YiQFAJrSX0F5C6z+SJEmSJEkCQKbIZ91giuw/DeU1lNdQ7j92Yid2YifmPwAAAAAAAAJAO7ETO7ETA0Crqqqqqqr6P0/sxE7sxCFAAAAAAACgJkCKndiJndgBQOLh4eHh4QFAHMdxHMdxBECoEZZ7GmEBQJHPusEU+RRAmpmZmZmZ2T92Yid2YicKQExoL6G9hAZAmpmZmZmZKkBDeQ3lNZQXQHTRRRdddBFAAAAAAAAA+z8MDAwMDAwEQOmiiy666PI/uuiiiy66EkAREREREREJQJeWlpaWlgpAq6qqqqqqAkDe3d3d3d0fQA3lNZTXUA5Ax3Ecx3Ec/z+rqqqqqqryP9u2bdu2bfs/MzMzMzMzA0B7Ce0ltJcgQKuqqqqqqg5AYhiGYRiGFUA=",
          "dtype": "f8"
         }
        },
        {
         "line": {
          "shape": "spline"
         },
         "mode": "lines+markers",
         "name": "Average LOS median",
         "type": "scatter",
         "x": [
          "2020-01-01T00:00:00.000000000",
          "2020-02-01T00:00:00.000000000",
          "2020-03-01T00:00:00.000000000",
          "2020-04-01T00:00:00.000000000",
          "2020-05-01T00:00:00.000000000",
          "2020-06-01T00:00:00.000000000",
          "2020-07-01T00:00:00.000000000",
          "2020-08-01T00:00:00.000000000",
          "2020-09-01T00:00:00.000000000",
          "2020-10-01T00:00:00.000000000",
          "2020-11-01T00:00:00.000000000",
          "2020-12-01T00:00:00.000000000",
          "2021-01-01T00:00:00.000000000",
          "2021-02-01T00:00:00.000000000",
          "2021-03-01T00:00:00.000000000",
          "2021-04-01T00:00:00.000000000",
          "2021-05-01T00:00:00.000000000",
          "2021-06-01T00:00:00.000000000",
          "2021-07-01T00:00:00.000000000",
          "2021-08-01T00:00:00.000000000",
          "2021-09-01T00:00:00.000000000",
          "2021-10-01T00:00:00.000000000",
          "2021-11-01T00:00:00.000000000",
          "2021-12-01T00:00:00.000000000",
          "2022-01-01T00:00:00.000000000",
          "2022-02-01T00:00:00.000000000",
          "2022-03-01T00:00:00.000000000",
          "2022-04-01T00:00:00.000000000",
          "2022-05-01T00:00:00.000000000",
          "2022-06-01T00:00:00.000000000",
          "2022-07-01T00:00:00.000000000",
          "2022-08-01T00:00:00.000000000",
          "2022-09-01T00:00:00.000000000",
          "2022-10-01T00:00:00.000000000",
          "2022-11-01T00:00:00.000000000",
          "2022-12-01T00:00:00.000000000",
          "2023-01-01T00:00:00.000000000",
          "2023-02-01T00:00:00.000000000",
          "2023-03-01T00:00:00.000000000",
          "2023-04-01T00:00:00.000000000",
          "2023-05-01T00:00:00.000000000",
          "2023-06-01T00:00:00.000000000",
          "2023-07-01T00:00:00.000000000",
          "2023-08-01T00:00:00.000000000",
          "2023-09-01T00:00:00.000000000",
          "2023-10-01T00:00:00.000000000",
          "2023-11-01T00:00:00.000000000",
          "2023-12-01T00:00:00.000000000",
          "2024-01-01T00:00:00.000000000"
         ],
         "y": {
          "bdata": "AAAAAAAAAAAAAAAAAAAIQAAAAAAAAPA/AAAAAAAA8D8AAAAAAABCQAAAAAAAAAAAAAAAAAAA4D8AAAAAAAAAAAAAAAAAAAAAAAAAAAAAAAAAAAAAAADwPwAAAAAAAAAAAAAAAAAAAAAAAAAAAADwPwAAAAAAAPA/AAAAAAAA8D8AAAAAAADwPwAAAAAAAAhAAAAAAAAA8D8AAAAAAAAAAAAAAAAAABhAAAAAAAAALkAAAAAAAAAAQAAAAAAAAPA/AAAAAAAA8D8AAAAAAADwPwAAAAAAAPA/AAAAAAAAAAAAAAAAAADwPwAAAAAAAAAAAAAAAAAA8D8AAAAAAAAAQAAAAAAAAPA/AAAAAAAA8D8AAAAAAADwPwAAAAAAAPA/AAAAAAAA+D8AAAAAAADwPwAAAAAAAPA/AAAAAAAACEAAAAAAAADwPwAAAAAAABBAAAAAAAAA8D8AAAAAAADwPwAAAAAAAPA/AAAAAAAAAEAAAAAAAAAiQAAAAAAAAPA/AAAAAAAA8D8=",
          "dtype": "f8"
         }
        }
       ],
       "layout": {
        "margin": {
         "b": 40,
         "l": 20,
         "r": 20,
         "t": 40
        },
        "template": {
         "data": {
          "bar": [
           {
            "error_x": {
             "color": "#2a3f5f"
            },
            "error_y": {
             "color": "#2a3f5f"
            },
            "marker": {
             "line": {
              "color": "white",
              "width": 0.5
             },
             "pattern": {
              "fillmode": "overlay",
              "size": 10,
              "solidity": 0.2
             }
            },
            "type": "bar"
           }
          ],
          "barpolar": [
           {
            "marker": {
             "line": {
              "color": "white",
              "width": 0.5
             },
             "pattern": {
              "fillmode": "overlay",
              "size": 10,
              "solidity": 0.2
             }
            },
            "type": "barpolar"
           }
          ],
          "carpet": [
           {
            "aaxis": {
             "endlinecolor": "#2a3f5f",
             "gridcolor": "#C8D4E3",
             "linecolor": "#C8D4E3",
             "minorgridcolor": "#C8D4E3",
             "startlinecolor": "#2a3f5f"
            },
            "baxis": {
             "endlinecolor": "#2a3f5f",
             "gridcolor": "#C8D4E3",
             "linecolor": "#C8D4E3",
             "minorgridcolor": "#C8D4E3",
             "startlinecolor": "#2a3f5f"
            },
            "type": "carpet"
           }
          ],
          "choropleth": [
           {
            "colorbar": {
             "outlinewidth": 0,
             "ticks": ""
            },
            "type": "choropleth"
           }
          ],
          "contour": [
           {
            "colorbar": {
             "outlinewidth": 0,
             "ticks": ""
            },
            "colorscale": [
             [
              0,
              "#0d0887"
             ],
             [
              0.1111111111111111,
              "#46039f"
             ],
             [
              0.2222222222222222,
              "#7201a8"
             ],
             [
              0.3333333333333333,
              "#9c179e"
             ],
             [
              0.4444444444444444,
              "#bd3786"
             ],
             [
              0.5555555555555556,
              "#d8576b"
             ],
             [
              0.6666666666666666,
              "#ed7953"
             ],
             [
              0.7777777777777778,
              "#fb9f3a"
             ],
             [
              0.8888888888888888,
              "#fdca26"
             ],
             [
              1,
              "#f0f921"
             ]
            ],
            "type": "contour"
           }
          ],
          "contourcarpet": [
           {
            "colorbar": {
             "outlinewidth": 0,
             "ticks": ""
            },
            "type": "contourcarpet"
           }
          ],
          "heatmap": [
           {
            "colorbar": {
             "outlinewidth": 0,
             "ticks": ""
            },
            "colorscale": [
             [
              0,
              "#0d0887"
             ],
             [
              0.1111111111111111,
              "#46039f"
             ],
             [
              0.2222222222222222,
              "#7201a8"
             ],
             [
              0.3333333333333333,
              "#9c179e"
             ],
             [
              0.4444444444444444,
              "#bd3786"
             ],
             [
              0.5555555555555556,
              "#d8576b"
             ],
             [
              0.6666666666666666,
              "#ed7953"
             ],
             [
              0.7777777777777778,
              "#fb9f3a"
             ],
             [
              0.8888888888888888,
              "#fdca26"
             ],
             [
              1,
              "#f0f921"
             ]
            ],
            "type": "heatmap"
           }
          ],
          "histogram": [
           {
            "marker": {
             "pattern": {
              "fillmode": "overlay",
              "size": 10,
              "solidity": 0.2
             }
            },
            "type": "histogram"
           }
          ],
          "histogram2d": [
           {
            "colorbar": {
             "outlinewidth": 0,
             "ticks": ""
            },
            "colorscale": [
             [
              0,
              "#0d0887"
             ],
             [
              0.1111111111111111,
              "#46039f"
             ],
             [
              0.2222222222222222,
              "#7201a8"
             ],
             [
              0.3333333333333333,
              "#9c179e"
             ],
             [
              0.4444444444444444,
              "#bd3786"
             ],
             [
              0.5555555555555556,
              "#d8576b"
             ],
             [
              0.6666666666666666,
              "#ed7953"
             ],
             [
              0.7777777777777778,
              "#fb9f3a"
             ],
             [
              0.8888888888888888,
              "#fdca26"
             ],
             [
              1,
              "#f0f921"
             ]
            ],
            "type": "histogram2d"
           }
          ],
          "histogram2dcontour": [
           {
            "colorbar": {
             "outlinewidth": 0,
             "ticks": ""
            },
            "colorscale": [
             [
              0,
              "#0d0887"
             ],
             [
              0.1111111111111111,
              "#46039f"
             ],
             [
              0.2222222222222222,
              "#7201a8"
             ],
             [
              0.3333333333333333,
              "#9c179e"
             ],
             [
              0.4444444444444444,
              "#bd3786"
             ],
             [
              0.5555555555555556,
              "#d8576b"
             ],
             [
              0.6666666666666666,
              "#ed7953"
             ],
             [
              0.7777777777777778,
              "#fb9f3a"
             ],
             [
              0.8888888888888888,
              "#fdca26"
             ],
             [
              1,
              "#f0f921"
             ]
            ],
            "type": "histogram2dcontour"
           }
          ],
          "mesh3d": [
           {
            "colorbar": {
             "outlinewidth": 0,
             "ticks": ""
            },
            "type": "mesh3d"
           }
          ],
          "parcoords": [
           {
            "line": {
             "colorbar": {
              "outlinewidth": 0,
              "ticks": ""
             }
            },
            "type": "parcoords"
           }
          ],
          "pie": [
           {
            "automargin": true,
            "type": "pie"
           }
          ],
          "scatter": [
           {
            "fillpattern": {
             "fillmode": "overlay",
             "size": 10,
             "solidity": 0.2
            },
            "type": "scatter"
           }
          ],
          "scatter3d": [
           {
            "line": {
             "colorbar": {
              "outlinewidth": 0,
              "ticks": ""
             }
            },
            "marker": {
             "colorbar": {
              "outlinewidth": 0,
              "ticks": ""
             }
            },
            "type": "scatter3d"
           }
          ],
          "scattercarpet": [
           {
            "marker": {
             "colorbar": {
              "outlinewidth": 0,
              "ticks": ""
             }
            },
            "type": "scattercarpet"
           }
          ],
          "scattergeo": [
           {
            "marker": {
             "colorbar": {
              "outlinewidth": 0,
              "ticks": ""
             }
            },
            "type": "scattergeo"
           }
          ],
          "scattergl": [
           {
            "marker": {
             "colorbar": {
              "outlinewidth": 0,
              "ticks": ""
             }
            },
            "type": "scattergl"
           }
          ],
          "scattermap": [
           {
            "marker": {
             "colorbar": {
              "outlinewidth": 0,
              "ticks": ""
             }
            },
            "type": "scattermap"
           }
          ],
          "scattermapbox": [
           {
            "marker": {
             "colorbar": {
              "outlinewidth": 0,
              "ticks": ""
             }
            },
            "type": "scattermapbox"
           }
          ],
          "scatterpolar": [
           {
            "marker": {
             "colorbar": {
              "outlinewidth": 0,
              "ticks": ""
             }
            },
            "type": "scatterpolar"
           }
          ],
          "scatterpolargl": [
           {
            "marker": {
             "colorbar": {
              "outlinewidth": 0,
              "ticks": ""
             }
            },
            "type": "scatterpolargl"
           }
          ],
          "scatterternary": [
           {
            "marker": {
             "colorbar": {
              "outlinewidth": 0,
              "ticks": ""
             }
            },
            "type": "scatterternary"
           }
          ],
          "surface": [
           {
            "colorbar": {
             "outlinewidth": 0,
             "ticks": ""
            },
            "colorscale": [
             [
              0,
              "#0d0887"
             ],
             [
              0.1111111111111111,
              "#46039f"
             ],
             [
              0.2222222222222222,
              "#7201a8"
             ],
             [
              0.3333333333333333,
              "#9c179e"
             ],
             [
              0.4444444444444444,
              "#bd3786"
             ],
             [
              0.5555555555555556,
              "#d8576b"
             ],
             [
              0.6666666666666666,
              "#ed7953"
             ],
             [
              0.7777777777777778,
              "#fb9f3a"
             ],
             [
              0.8888888888888888,
              "#fdca26"
             ],
             [
              1,
              "#f0f921"
             ]
            ],
            "type": "surface"
           }
          ],
          "table": [
           {
            "cells": {
             "fill": {
              "color": "#EBF0F8"
             },
             "line": {
              "color": "white"
             }
            },
            "header": {
             "fill": {
              "color": "#C8D4E3"
             },
             "line": {
              "color": "white"
             }
            },
            "type": "table"
           }
          ]
         },
         "layout": {
          "annotationdefaults": {
           "arrowcolor": "#2a3f5f",
           "arrowhead": 0,
           "arrowwidth": 1
          },
          "autotypenumbers": "strict",
          "coloraxis": {
           "colorbar": {
            "outlinewidth": 0,
            "ticks": ""
           }
          },
          "colorscale": {
           "diverging": [
            [
             0,
             "#8e0152"
            ],
            [
             0.1,
             "#c51b7d"
            ],
            [
             0.2,
             "#de77ae"
            ],
            [
             0.3,
             "#f1b6da"
            ],
            [
             0.4,
             "#fde0ef"
            ],
            [
             0.5,
             "#f7f7f7"
            ],
            [
             0.6,
             "#e6f5d0"
            ],
            [
             0.7,
             "#b8e186"
            ],
            [
             0.8,
             "#7fbc41"
            ],
            [
             0.9,
             "#4d9221"
            ],
            [
             1,
             "#276419"
            ]
           ],
           "sequential": [
            [
             0,
             "#0d0887"
            ],
            [
             0.1111111111111111,
             "#46039f"
            ],
            [
             0.2222222222222222,
             "#7201a8"
            ],
            [
             0.3333333333333333,
             "#9c179e"
            ],
            [
             0.4444444444444444,
             "#bd3786"
            ],
            [
             0.5555555555555556,
             "#d8576b"
            ],
            [
             0.6666666666666666,
             "#ed7953"
            ],
            [
             0.7777777777777778,
             "#fb9f3a"
            ],
            [
             0.8888888888888888,
             "#fdca26"
            ],
            [
             1,
             "#f0f921"
            ]
           ],
           "sequentialminus": [
            [
             0,
             "#0d0887"
            ],
            [
             0.1111111111111111,
             "#46039f"
            ],
            [
             0.2222222222222222,
             "#7201a8"
            ],
            [
             0.3333333333333333,
             "#9c179e"
            ],
            [
             0.4444444444444444,
             "#bd3786"
            ],
            [
             0.5555555555555556,
             "#d8576b"
            ],
            [
             0.6666666666666666,
             "#ed7953"
            ],
            [
             0.7777777777777778,
             "#fb9f3a"
            ],
            [
             0.8888888888888888,
             "#fdca26"
            ],
            [
             1,
             "#f0f921"
            ]
           ]
          },
          "colorway": [
           "#636efa",
           "#EF553B",
           "#00cc96",
           "#ab63fa",
           "#FFA15A",
           "#19d3f3",
           "#FF6692",
           "#B6E880",
           "#FF97FF",
           "#FECB52"
          ],
          "font": {
           "color": "#2a3f5f"
          },
          "geo": {
           "bgcolor": "white",
           "lakecolor": "white",
           "landcolor": "white",
           "showlakes": true,
           "showland": true,
           "subunitcolor": "#C8D4E3"
          },
          "hoverlabel": {
           "align": "left"
          },
          "hovermode": "closest",
          "mapbox": {
           "style": "light"
          },
          "paper_bgcolor": "white",
          "plot_bgcolor": "white",
          "polar": {
           "angularaxis": {
            "gridcolor": "#EBF0F8",
            "linecolor": "#EBF0F8",
            "ticks": ""
           },
           "bgcolor": "white",
           "radialaxis": {
            "gridcolor": "#EBF0F8",
            "linecolor": "#EBF0F8",
            "ticks": ""
           }
          },
          "scene": {
           "xaxis": {
            "backgroundcolor": "white",
            "gridcolor": "#DFE8F3",
            "gridwidth": 2,
            "linecolor": "#EBF0F8",
            "showbackground": true,
            "ticks": "",
            "zerolinecolor": "#EBF0F8"
           },
           "yaxis": {
            "backgroundcolor": "white",
            "gridcolor": "#DFE8F3",
            "gridwidth": 2,
            "linecolor": "#EBF0F8",
            "showbackground": true,
            "ticks": "",
            "zerolinecolor": "#EBF0F8"
           },
           "zaxis": {
            "backgroundcolor": "white",
            "gridcolor": "#DFE8F3",
            "gridwidth": 2,
            "linecolor": "#EBF0F8",
            "showbackground": true,
            "ticks": "",
            "zerolinecolor": "#EBF0F8"
           }
          },
          "shapedefaults": {
           "line": {
            "color": "#2a3f5f"
           }
          },
          "ternary": {
           "aaxis": {
            "gridcolor": "#DFE8F3",
            "linecolor": "#A2B1C6",
            "ticks": ""
           },
           "baxis": {
            "gridcolor": "#DFE8F3",
            "linecolor": "#A2B1C6",
            "ticks": ""
           },
           "bgcolor": "white",
           "caxis": {
            "gridcolor": "#DFE8F3",
            "linecolor": "#A2B1C6",
            "ticks": ""
           }
          },
          "title": {
           "x": 0.05
          },
          "xaxis": {
           "automargin": true,
           "gridcolor": "#EBF0F8",
           "linecolor": "#EBF0F8",
           "ticks": "",
           "title": {
            "standoff": 15
           },
           "zerolinecolor": "#EBF0F8",
           "zerolinewidth": 2
          },
          "yaxis": {
           "automargin": true,
           "gridcolor": "#EBF0F8",
           "linecolor": "#EBF0F8",
           "ticks": "",
           "title": {
            "standoff": 15
           },
           "zerolinecolor": "#EBF0F8",
           "zerolinewidth": 2
          }
         }
        },
        "title": {
         "text": "Average LOS Per Month (2021–2024) - ELECT"
        },
        "xaxis": {
         "tickangle": 50,
         "title": {
          "text": "Month"
         }
        },
        "yaxis": {
         "title": {
          "text": "Length of Stay (Days)"
         }
        }
       }
      }
     },
     "metadata": {},
     "output_type": "display_data"
    }
   ],
   "source": [
    "import pandas as pd\n",
    "import plotly.graph_objects as go\n",
    "\n",
    "\n",
    "# Create the plot\n",
    "fig = go.Figure()\n",
    "fig.add_trace(\n",
    "    go.Scatter(\n",
    "        x=avg_los_month['month'],\n",
    "        y=avg_los_month['Los'],\n",
    "        mode='lines+markers',\n",
    "        name='Average LOS mean',\n",
    "        line=go.scatter.Line(shape='spline')\n",
    "    )\n",
    ")\n",
    "\n",
    "fig.add_trace(\n",
    "    go.Scatter(\n",
    "        x=avg_los_month1['month'],\n",
    "        y=avg_los_month1['Los'],\n",
    "        mode='lines+markers',\n",
    "        name='Average LOS median',\n",
    "        line=go.scatter.Line(shape='spline')\n",
    "    )\n",
    ")\n",
    "\n",
    "# Update layout\n",
    "fig.update_layout(\n",
    "    title='Average LOS Per Month (2021–2024) - ELECT',\n",
    "    xaxis_title='Month',\n",
    "    yaxis_title='Length of Stay (Days)',\n",
    "    template='plotly_white',\n",
    "    margin=dict(l=20, r=20, t=40, b=40),\n",
    "    xaxis=dict(tickangle=50)\n",
    ")\n",
    "\n",
    "fig.show()\n"
   ]
  },
  {
   "cell_type": "code",
   "execution_count": 59,
   "metadata": {},
   "outputs": [
    {
     "name": "stderr",
     "output_type": "stream",
     "text": [
      "C:\\Users\\jawad.iqbal\\AppData\\Local\\Temp\\ipykernel_8080\\3930249456.py:1: UserWarning:\n",
      "\n",
      "Boolean Series key will be reindexed to match DataFrame index.\n",
      "\n"
     ]
    },
    {
     "data": {
      "text/html": [
       "<div>\n",
       "<style scoped>\n",
       "    .dataframe tbody tr th:only-of-type {\n",
       "        vertical-align: middle;\n",
       "    }\n",
       "\n",
       "    .dataframe tbody tr th {\n",
       "        vertical-align: top;\n",
       "    }\n",
       "\n",
       "    .dataframe thead th {\n",
       "        text-align: right;\n",
       "    }\n",
       "</style>\n",
       "<table border=\"1\" class=\"dataframe\">\n",
       "  <thead>\n",
       "    <tr style=\"text-align: right;\">\n",
       "      <th></th>\n",
       "      <th>admission_datetime</th>\n",
       "      <th>weekend</th>\n",
       "      <th>time_of_day</th>\n",
       "      <th>WardAdmission</th>\n",
       "      <th>Los</th>\n",
       "      <th>PriorityType</th>\n",
       "      <th>IntendedManagement</th>\n",
       "      <th>AdmissionMethod</th>\n",
       "      <th>SourceOfAdmission</th>\n",
       "      <th>em_el_dc</th>\n",
       "      <th>EthnicCategory</th>\n",
       "      <th>AgeOnAdmission</th>\n",
       "      <th>StartSexofPatientsCode</th>\n",
       "      <th>PrimaryDiagnosisICD</th>\n",
       "      <th>Description</th>\n",
       "      <th>Chapter_Number</th>\n",
       "      <th>Chapter_Description</th>\n",
       "      <th>IMD_Decile</th>\n",
       "      <th>month</th>\n",
       "    </tr>\n",
       "  </thead>\n",
       "  <tbody>\n",
       "    <tr>\n",
       "      <th>267</th>\n",
       "      <td>2020-05-25 14:19:24.030</td>\n",
       "      <td>1</td>\n",
       "      <td>Afternoon</td>\n",
       "      <td>Parkside Ward</td>\n",
       "      <td>36</td>\n",
       "      <td>2</td>\n",
       "      <td>1</td>\n",
       "      <td>12</td>\n",
       "      <td>19</td>\n",
       "      <td>ELECT</td>\n",
       "      <td>A</td>\n",
       "      <td>74</td>\n",
       "      <td>2</td>\n",
       "      <td>I500</td>\n",
       "      <td>Congestive heart failure</td>\n",
       "      <td>9</td>\n",
       "      <td>Diseases of the circulatory system</td>\n",
       "      <td>6.0</td>\n",
       "      <td>2020-05-01</td>\n",
       "    </tr>\n",
       "    <tr>\n",
       "      <th>399</th>\n",
       "      <td>2020-05-25 14:19:24.030</td>\n",
       "      <td>1</td>\n",
       "      <td>Afternoon</td>\n",
       "      <td>Parkside Ward</td>\n",
       "      <td>36</td>\n",
       "      <td>2.1</td>\n",
       "      <td>2</td>\n",
       "      <td>12</td>\n",
       "      <td>19</td>\n",
       "      <td>ELECT</td>\n",
       "      <td>A</td>\n",
       "      <td>74</td>\n",
       "      <td>2</td>\n",
       "      <td>I500</td>\n",
       "      <td>Congestive heart failure</td>\n",
       "      <td>9</td>\n",
       "      <td>Diseases of the circulatory system</td>\n",
       "      <td>6.0</td>\n",
       "      <td>2020-05-01</td>\n",
       "    </tr>\n",
       "    <tr>\n",
       "      <th>419</th>\n",
       "      <td>2020-05-25 14:19:24.030</td>\n",
       "      <td>1</td>\n",
       "      <td>Afternoon</td>\n",
       "      <td>Parkside Ward</td>\n",
       "      <td>36</td>\n",
       "      <td>3.3</td>\n",
       "      <td>1</td>\n",
       "      <td>12</td>\n",
       "      <td>19</td>\n",
       "      <td>ELECT</td>\n",
       "      <td>A</td>\n",
       "      <td>74</td>\n",
       "      <td>2</td>\n",
       "      <td>I500</td>\n",
       "      <td>Congestive heart failure</td>\n",
       "      <td>9</td>\n",
       "      <td>Diseases of the circulatory system</td>\n",
       "      <td>6.0</td>\n",
       "      <td>2020-05-01</td>\n",
       "    </tr>\n",
       "    <tr>\n",
       "      <th>3520</th>\n",
       "      <td>2020-05-25 14:19:24.030</td>\n",
       "      <td>1</td>\n",
       "      <td>Afternoon</td>\n",
       "      <td>Parkside Ward</td>\n",
       "      <td>36</td>\n",
       "      <td>2</td>\n",
       "      <td>1</td>\n",
       "      <td>12</td>\n",
       "      <td>19</td>\n",
       "      <td>ELECT</td>\n",
       "      <td>A</td>\n",
       "      <td>74</td>\n",
       "      <td>2</td>\n",
       "      <td>E871</td>\n",
       "      <td>Hypo-osmolality and hyponatraemia</td>\n",
       "      <td>4</td>\n",
       "      <td>Endocrine, nutritional and metabolic diseases</td>\n",
       "      <td>6.0</td>\n",
       "      <td>2020-05-01</td>\n",
       "    </tr>\n",
       "    <tr>\n",
       "      <th>3524</th>\n",
       "      <td>2020-05-25 14:19:24.030</td>\n",
       "      <td>1</td>\n",
       "      <td>Afternoon</td>\n",
       "      <td>Parkside Ward</td>\n",
       "      <td>36</td>\n",
       "      <td>2.1</td>\n",
       "      <td>2</td>\n",
       "      <td>12</td>\n",
       "      <td>19</td>\n",
       "      <td>ELECT</td>\n",
       "      <td>A</td>\n",
       "      <td>74</td>\n",
       "      <td>2</td>\n",
       "      <td>E871</td>\n",
       "      <td>Hypo-osmolality and hyponatraemia</td>\n",
       "      <td>4</td>\n",
       "      <td>Endocrine, nutritional and metabolic diseases</td>\n",
       "      <td>6.0</td>\n",
       "      <td>2020-05-01</td>\n",
       "    </tr>\n",
       "    <tr>\n",
       "      <th>3527</th>\n",
       "      <td>2020-05-25 14:19:24.030</td>\n",
       "      <td>1</td>\n",
       "      <td>Afternoon</td>\n",
       "      <td>Parkside Ward</td>\n",
       "      <td>36</td>\n",
       "      <td>3.3</td>\n",
       "      <td>1</td>\n",
       "      <td>12</td>\n",
       "      <td>19</td>\n",
       "      <td>ELECT</td>\n",
       "      <td>A</td>\n",
       "      <td>74</td>\n",
       "      <td>2</td>\n",
       "      <td>E871</td>\n",
       "      <td>Hypo-osmolality and hyponatraemia</td>\n",
       "      <td>4</td>\n",
       "      <td>Endocrine, nutritional and metabolic diseases</td>\n",
       "      <td>6.0</td>\n",
       "      <td>2020-05-01</td>\n",
       "    </tr>\n",
       "  </tbody>\n",
       "</table>\n",
       "</div>"
      ],
      "text/plain": [
       "          admission_datetime  weekend time_of_day  WardAdmission  Los  \\\n",
       "267  2020-05-25 14:19:24.030        1   Afternoon  Parkside Ward   36   \n",
       "399  2020-05-25 14:19:24.030        1   Afternoon  Parkside Ward   36   \n",
       "419  2020-05-25 14:19:24.030        1   Afternoon  Parkside Ward   36   \n",
       "3520 2020-05-25 14:19:24.030        1   Afternoon  Parkside Ward   36   \n",
       "3524 2020-05-25 14:19:24.030        1   Afternoon  Parkside Ward   36   \n",
       "3527 2020-05-25 14:19:24.030        1   Afternoon  Parkside Ward   36   \n",
       "\n",
       "     PriorityType IntendedManagement AdmissionMethod SourceOfAdmission  \\\n",
       "267           2                    1              12                19   \n",
       "399           2.1                  2              12                19   \n",
       "419           3.3                  1              12                19   \n",
       "3520          2                    1              12                19   \n",
       "3524          2.1                  2              12                19   \n",
       "3527          3.3                  1              12                19   \n",
       "\n",
       "     em_el_dc EthnicCategory AgeOnAdmission StartSexofPatientsCode  \\\n",
       "267     ELECT              A             74                      2   \n",
       "399     ELECT              A             74                      2   \n",
       "419     ELECT              A             74                      2   \n",
       "3520    ELECT              A             74                      2   \n",
       "3524    ELECT              A             74                      2   \n",
       "3527    ELECT              A             74                      2   \n",
       "\n",
       "     PrimaryDiagnosisICD                        Description  Chapter_Number  \\\n",
       "267               I500             Congestive heart failure               9   \n",
       "399               I500             Congestive heart failure               9   \n",
       "419               I500             Congestive heart failure               9   \n",
       "3520              E871    Hypo-osmolality and hyponatraemia               4   \n",
       "3524              E871    Hypo-osmolality and hyponatraemia               4   \n",
       "3527              E871    Hypo-osmolality and hyponatraemia               4   \n",
       "\n",
       "                                Chapter_Description  IMD_Decile      month  \n",
       "267              Diseases of the circulatory system         6.0 2020-05-01  \n",
       "399              Diseases of the circulatory system         6.0 2020-05-01  \n",
       "419              Diseases of the circulatory system         6.0 2020-05-01  \n",
       "3520  Endocrine, nutritional and metabolic diseases         6.0 2020-05-01  \n",
       "3524  Endocrine, nutritional and metabolic diseases         6.0 2020-05-01  \n",
       "3527  Endocrine, nutritional and metabolic diseases         6.0 2020-05-01  "
      ]
     },
     "execution_count": 59,
     "metadata": {},
     "output_type": "execute_result"
    }
   ],
   "source": [
    "data[data['month'] == 'May 2020'][data['Los'] == 36]"
   ]
  },
  {
   "cell_type": "code",
   "execution_count": 78,
   "metadata": {},
   "outputs": [
    {
     "data": {
      "text/plain": [
       "<Axes: xlabel='Los', ylabel='Count'>"
      ]
     },
     "execution_count": 78,
     "metadata": {},
     "output_type": "execute_result"
    },
    {
     "data": {
      "image/png": "[encoded data removed]",
      "text/plain": [
       "<Figure size 640x480 with 1 Axes>"
      ]
     },
     "metadata": {},
     "output_type": "display_data"
    }
   ],
   "source": [
    "\n",
    "import seaborn as sns\n",
    "sns.histplot(data['Los'], bins=30, kde=True)\n"
   ]
  },
  {
   "cell_type": "code",
   "execution_count": 80,
   "metadata": {},
   "outputs": [],
   "source": [
    "data_filtered =  data.drop(columns=['admission_datetime' ,'em_el_dc','Description', 'Chapter_Description', 'WardAdmission'])"
   ]
  },
  {
   "cell_type": "code",
   "execution_count": 81,
   "metadata": {},
   "outputs": [],
   "source": [
    "data_filtered['month'] = data_filtered['month'].dt.month"
   ]
  },
  {
   "cell_type": "code",
   "execution_count": 87,
   "metadata": {},
   "outputs": [
    {
     "data": {
      "text/plain": [
       "81"
      ]
     },
     "execution_count": 87,
     "metadata": {},
     "output_type": "execute_result"
    }
   ],
   "source": [
    "len(data_filtered['PrimaryDiagnosisICD'].unique())"
   ]
  },
  {
   "cell_type": "code",
   "execution_count": 89,
   "metadata": {},
   "outputs": [
    {
     "name": "stderr",
     "output_type": "stream",
     "text": [
      "[I 2025-08-13 15:32:41,693] A new study created in memory with name: no-name-9a6d3bd5-f9f9-4bdf-b71d-97f278b51c97\n",
      "[I 2025-08-13 15:32:42,411] Trial 0 finished with value: 26.73621940612793 and parameters: {'n_estimators': 894, 'max_depth': 9, 'learning_rate': 0.03244210154553448, 'subsample': 0.535086132989477, 'colsample_bytree': 0.5837044746552418, 'reg_alpha': 6.033070011115304, 'reg_lambda': 0.7930546154258854}. Best is trial 0 with value: 26.73621940612793.\n",
      "[I 2025-08-13 15:32:42,563] Trial 1 finished with value: 27.92865562438965 and parameters: {'n_estimators': 236, 'max_depth': 6, 'learning_rate': 0.04838635910049754, 'subsample': 0.5609931887200288, 'colsample_bytree': 0.8970092548341653, 'reg_alpha': 3.303628613900889, 'reg_lambda': 0.3861111978096893}. Best is trial 0 with value: 26.73621940612793.\n",
      "[I 2025-08-13 15:32:43,026] Trial 2 finished with value: 27.00730323791504 and parameters: {'n_estimators': 959, 'max_depth': 5, 'learning_rate': 0.013077168332911594, 'subsample': 0.956424095022645, 'colsample_bytree': 0.5814701371694537, 'reg_alpha': 0.9046737149271245, 'reg_lambda': 0.0063595731932093}. Best is trial 0 with value: 26.73621940612793.\n",
      "[I 2025-08-13 15:32:43,653] Trial 3 finished with value: 12.850109100341797 and parameters: {'n_estimators': 994, 'max_depth': 6, 'learning_rate': 0.026594421752652034, 'subsample': 0.7440241712475499, 'colsample_bytree': 0.7750727533968973, 'reg_alpha': 0.34521631854177764, 'reg_lambda': 0.0054535441485786245}. Best is trial 3 with value: 12.850109100341797.\n",
      "[I 2025-08-13 15:32:44,334] Trial 4 finished with value: 11.061128616333008 and parameters: {'n_estimators': 739, 'max_depth': 8, 'learning_rate': 0.049033651938879465, 'subsample': 0.8696677291920276, 'colsample_bytree': 0.8674303818898483, 'reg_alpha': 0.19785036660129932, 'reg_lambda': 0.0012095526474381647}. Best is trial 4 with value: 11.061128616333008.\n",
      "[I 2025-08-13 15:32:44,572] Trial 5 finished with value: 18.168027877807617 and parameters: {'n_estimators': 212, 'max_depth': 10, 'learning_rate': 0.09152135738161353, 'subsample': 0.5424643802521584, 'colsample_bytree': 0.6084298654258451, 'reg_alpha': 1.6136227975233053, 'reg_lambda': 1.9102301244758406}. Best is trial 4 with value: 11.061128616333008.\n",
      "[I 2025-08-13 15:32:44,993] Trial 6 finished with value: 14.274894714355469 and parameters: {'n_estimators': 756, 'max_depth': 5, 'learning_rate': 0.051893211891385294, 'subsample': 0.8961412222831973, 'colsample_bytree': 0.9104362472670215, 'reg_alpha': 0.43238817339249463, 'reg_lambda': 1.6181942284403694}. Best is trial 4 with value: 11.061128616333008.\n",
      "[I 2025-08-13 15:32:45,141] Trial 7 finished with value: 19.90825843811035 and parameters: {'n_estimators': 224, 'max_depth': 9, 'learning_rate': 0.16650939562533337, 'subsample': 0.9548946741988744, 'colsample_bytree': 0.8277574352415099, 'reg_alpha': 4.007907235506899, 'reg_lambda': 0.9913073284414622}. Best is trial 4 with value: 11.061128616333008.\n",
      "[I 2025-08-13 15:32:45,639] Trial 8 finished with value: 17.514188766479492 and parameters: {'n_estimators': 396, 'max_depth': 10, 'learning_rate': 0.02873905740527248, 'subsample': 0.5204004258060603, 'colsample_bytree': 0.8660578934814991, 'reg_alpha': 0.0024656871309750176, 'reg_lambda': 2.592722812482721}. Best is trial 4 with value: 11.061128616333008.\n",
      "[I 2025-08-13 15:32:46,090] Trial 9 finished with value: 22.952373504638672 and parameters: {'n_estimators': 733, 'max_depth': 6, 'learning_rate': 0.014500552498709691, 'subsample': 0.6030785031132424, 'colsample_bytree': 0.9417677295305404, 'reg_alpha': 0.3115693689677487, 'reg_lambda': 1.2518475963418065}. Best is trial 4 with value: 11.061128616333008.\n",
      "[I 2025-08-13 15:32:46,327] Trial 10 finished with value: 15.86151123046875 and parameters: {'n_estimators': 585, 'max_depth': 3, 'learning_rate': 0.28490770163673834, 'subsample': 0.7992338763964891, 'colsample_bytree': 0.7026749699896849, 'reg_alpha': 0.020971188849830544, 'reg_lambda': 0.033890324393279984}. Best is trial 4 with value: 11.061128616333008.\n",
      "[I 2025-08-13 15:32:47,064] Trial 11 finished with value: 11.837089538574219 and parameters: {'n_estimators': 788, 'max_depth': 8, 'learning_rate': 0.023667280716342616, 'subsample': 0.7142789353737864, 'colsample_bytree': 0.7541833130817529, 'reg_alpha': 0.04562440896953149, 'reg_lambda': 0.001358402037195565}. Best is trial 4 with value: 11.061128616333008.\n",
      "[I 2025-08-13 15:32:47,790] Trial 12 finished with value: 11.339539527893066 and parameters: {'n_estimators': 662, 'max_depth': 8, 'learning_rate': 0.0906851933610893, 'subsample': 0.7018518185939482, 'colsample_bytree': 0.7011113759528687, 'reg_alpha': 0.042193830000834896, 'reg_lambda': 0.0012914497590717474}. Best is trial 4 with value: 11.061128616333008.\n",
      "[I 2025-08-13 15:32:48,368] Trial 13 finished with value: 8.503031730651855 and parameters: {'n_estimators': 571, 'max_depth': 8, 'learning_rate': 0.0917686992402006, 'subsample': 0.8366878509562915, 'colsample_bytree': 0.6749212628321655, 'reg_alpha': 0.008937208437485036, 'reg_lambda': 0.0013137407363046358}. Best is trial 13 with value: 8.503031730651855.\n",
      "[I 2025-08-13 15:32:48,845] Trial 14 finished with value: 9.077473640441895 and parameters: {'n_estimators': 467, 'max_depth': 8, 'learning_rate': 0.09675349598589643, 'subsample': 0.8487249523234762, 'colsample_bytree': 0.6665752006159525, 'reg_alpha': 0.004760785586878191, 'reg_lambda': 0.038194295583614556}. Best is trial 13 with value: 8.503031730651855.\n",
      "[I 2025-08-13 15:32:49,256] Trial 15 finished with value: 10.838546752929688 and parameters: {'n_estimators': 428, 'max_depth': 7, 'learning_rate': 0.1120554047374733, 'subsample': 0.8270477262419428, 'colsample_bytree': 0.662257666882135, 'reg_alpha': 0.0038159057116246265, 'reg_lambda': 0.0648545711063707}. Best is trial 13 with value: 8.503031730651855.\n",
      "[I 2025-08-13 15:32:49,654] Trial 16 finished with value: 9.23696231842041 and parameters: {'n_estimators': 445, 'max_depth': 7, 'learning_rate': 0.15645632764924527, 'subsample': 0.6499147447187132, 'colsample_bytree': 0.5096710344135826, 'reg_alpha': 0.008189676592813153, 'reg_lambda': 9.047565049259331}. Best is trial 13 with value: 8.503031730651855.\n",
      "[I 2025-08-13 15:32:50,177] Trial 17 finished with value: 13.180521011352539 and parameters: {'n_estimators': 537, 'max_depth': 9, 'learning_rate': 0.29952442850531125, 'subsample': 0.8001127514977837, 'colsample_bytree': 0.6544624209618157, 'reg_alpha': 0.0011396454308541006, 'reg_lambda': 0.018579190492289847}. Best is trial 13 with value: 8.503031730651855.\n",
      "[I 2025-08-13 15:32:50,348] Trial 18 finished with value: 25.048961639404297 and parameters: {'n_estimators': 350, 'max_depth': 3, 'learning_rate': 0.0799198072676575, 'subsample': 0.8945465023374864, 'colsample_bytree': 0.5243656357035138, 'reg_alpha': 0.009313007332581362, 'reg_lambda': 0.20127654101029374}. Best is trial 13 with value: 8.503031730651855.\n",
      "[I 2025-08-13 15:32:50,508] Trial 19 finished with value: 13.047286987304688 and parameters: {'n_estimators': 115, 'max_depth': 8, 'learning_rate': 0.17357791442709794, 'subsample': 0.8495484280158182, 'colsample_bytree': 0.9919378336067808, 'reg_alpha': 0.013841484283504348, 'reg_lambda': 0.005000270889387048}. Best is trial 13 with value: 8.503031730651855.\n",
      "[I 2025-08-13 15:32:50,935] Trial 20 finished with value: 13.151281356811523 and parameters: {'n_estimators': 541, 'max_depth': 7, 'learning_rate': 0.06669795727996108, 'subsample': 0.9985042425353952, 'colsample_bytree': 0.8071154593806846, 'reg_alpha': 0.004296374851077569, 'reg_lambda': 0.015242448538635081}. Best is trial 13 with value: 8.503031730651855.\n",
      "[I 2025-08-13 15:32:51,346] Trial 21 finished with value: 8.443522453308105 and parameters: {'n_estimators': 491, 'max_depth': 7, 'learning_rate': 0.14272195794982373, 'subsample': 0.644893473194038, 'colsample_bytree': 0.5111515175860079, 'reg_alpha': 0.007851731433456816, 'reg_lambda': 8.096742322504024}. Best is trial 21 with value: 8.443522453308105.\n",
      "[I 2025-08-13 15:32:51,887] Trial 22 finished with value: 7.600077152252197 and parameters: {'n_estimators': 626, 'max_depth': 7, 'learning_rate': 0.14149166989268208, 'subsample': 0.6690282715070542, 'colsample_bytree': 0.6605565378654011, 'reg_alpha': 0.0011034167325548478, 'reg_lambda': 9.538461224107571}. Best is trial 22 with value: 7.600077152252197.\n",
      "[I 2025-08-13 15:32:52,272] Trial 23 finished with value: 11.34994888305664 and parameters: {'n_estimators': 623, 'max_depth': 5, 'learning_rate': 0.13574343109513434, 'subsample': 0.6563840020611111, 'colsample_bytree': 0.549070784778938, 'reg_alpha': 0.001462181410366363, 'reg_lambda': 9.968904922854344}. Best is trial 22 with value: 7.600077152252197.\n",
      "[I 2025-08-13 15:32:52,846] Trial 24 finished with value: 8.23200511932373 and parameters: {'n_estimators': 655, 'max_depth': 7, 'learning_rate': 0.2227953818644186, 'subsample': 0.6371328477449466, 'colsample_bytree': 0.6240052711550839, 'reg_alpha': 0.03464241005266547, 'reg_lambda': 3.991971247772015}. Best is trial 22 with value: 7.600077152252197.\n",
      "[I 2025-08-13 15:32:53,161] Trial 25 finished with value: 8.509844779968262 and parameters: {'n_estimators': 692, 'max_depth': 4, 'learning_rate': 0.22182731012722182, 'subsample': 0.6456059669786173, 'colsample_bytree': 0.633896408809046, 'reg_alpha': 0.07552996800091541, 'reg_lambda': 4.363133835458802}. Best is trial 22 with value: 7.600077152252197.\n",
      "[I 2025-08-13 15:32:53,852] Trial 26 finished with value: 6.382833957672119 and parameters: {'n_estimators': 837, 'max_depth': 7, 'learning_rate': 0.2216580468385581, 'subsample': 0.5933302324286114, 'colsample_bytree': 0.5597062799679092, 'reg_alpha': 0.026049665735982056, 'reg_lambda': 4.106683399024774}. Best is trial 26 with value: 6.382833957672119.\n",
      "[I 2025-08-13 15:32:54,448] Trial 27 finished with value: 7.061058044433594 and parameters: {'n_estimators': 893, 'max_depth': 6, 'learning_rate': 0.2189693834918196, 'subsample': 0.5917806915606145, 'colsample_bytree': 0.5657511615055428, 'reg_alpha': 0.12218630855187917, 'reg_lambda': 3.8540558798735334}. Best is trial 26 with value: 6.382833957672119.\n",
      "[I 2025-08-13 15:32:55,037] Trial 28 finished with value: 9.197704315185547 and parameters: {'n_estimators': 839, 'max_depth': 6, 'learning_rate': 0.2197575356021583, 'subsample': 0.5906861027329618, 'colsample_bytree': 0.5529749219372434, 'reg_alpha': 0.15286925961707215, 'reg_lambda': 0.5290746494726468}. Best is trial 26 with value: 6.382833957672119.\n",
      "[I 2025-08-13 15:32:55,541] Trial 29 finished with value: 9.755303382873535 and parameters: {'n_estimators': 900, 'max_depth': 5, 'learning_rate': 0.2023107883927978, 'subsample': 0.5959412858596774, 'colsample_bytree': 0.5845843984847758, 'reg_alpha': 0.8374462737269791, 'reg_lambda': 4.422661097860529}. Best is trial 26 with value: 6.382833957672119.\n",
      "[I 2025-08-13 15:32:55,915] Trial 30 finished with value: 12.058939933776855 and parameters: {'n_estimators': 874, 'max_depth': 4, 'learning_rate': 0.12309796559383542, 'subsample': 0.5071578157905547, 'colsample_bytree': 0.5834905151614986, 'reg_alpha': 0.11247271230086607, 'reg_lambda': 0.3395939966968859}. Best is trial 26 with value: 6.382833957672119.\n",
      "[I 2025-08-13 15:32:56,593] Trial 31 finished with value: 9.97836971282959 and parameters: {'n_estimators': 847, 'max_depth': 7, 'learning_rate': 0.24592238375265243, 'subsample': 0.6884053253024766, 'colsample_bytree': 0.6155540780310651, 'reg_alpha': 0.023339016766675116, 'reg_lambda': 4.224124476296936}. Best is trial 26 with value: 6.382833957672119.\n",
      "[I 2025-08-13 15:32:57,134] Trial 32 finished with value: 9.291642189025879 and parameters: {'n_estimators': 790, 'max_depth': 6, 'learning_rate': 0.1897043488400649, 'subsample': 0.5623757805742791, 'colsample_bytree': 0.5534179205127008, 'reg_alpha': 0.0706128834818472, 'reg_lambda': 2.4947281859274137}. Best is trial 26 with value: 6.382833957672119.\n",
      "[I 2025-08-13 15:32:57,891] Trial 33 finished with value: 11.716352462768555 and parameters: {'n_estimators': 926, 'max_depth': 7, 'learning_rate': 0.248783051394142, 'subsample': 0.6123696059949157, 'colsample_bytree': 0.7105495540033914, 'reg_alpha': 0.029516135493079024, 'reg_lambda': 0.720137059357681}. Best is trial 26 with value: 6.382833957672119.\n",
      "[I 2025-08-13 15:32:58,210] Trial 34 finished with value: 28.17503547668457 and parameters: {'n_estimators': 668, 'max_depth': 6, 'learning_rate': 0.17488949580928187, 'subsample': 0.5682128874677397, 'colsample_bytree': 0.6183261310118182, 'reg_alpha': 9.795931087285593, 'reg_lambda': 5.210308596660877}. Best is trial 26 with value: 6.382833957672119.\n",
      "[I 2025-08-13 15:32:58,869] Trial 35 finished with value: 8.542990684509277 and parameters: {'n_estimators': 994, 'max_depth': 6, 'learning_rate': 0.25715825551800975, 'subsample': 0.7415500347665192, 'colsample_bytree': 0.5777876045583482, 'reg_alpha': 0.05903084412712822, 'reg_lambda': 3.0311149374554747}. Best is trial 26 with value: 6.382833957672119.\n",
      "[I 2025-08-13 15:32:59,615] Trial 36 finished with value: 8.017426490783691 and parameters: {'n_estimators': 945, 'max_depth': 7, 'learning_rate': 0.06685260263743768, 'subsample': 0.6173188047496915, 'colsample_bytree': 0.6384438608533601, 'reg_alpha': 0.10736792398065288, 'reg_lambda': 5.458659447882663}. Best is trial 26 with value: 6.382833957672119.\n",
      "[I 2025-08-13 15:33:00,207] Trial 37 finished with value: 11.89377212524414 and parameters: {'n_estimators': 940, 'max_depth': 6, 'learning_rate': 0.06535704670501394, 'subsample': 0.6826940514107871, 'colsample_bytree': 0.7383449764380295, 'reg_alpha': 0.6516183351053755, 'reg_lambda': 6.22783159459519}. Best is trial 26 with value: 6.382833957672119.\n",
      "[I 2025-08-13 15:33:00,918] Trial 38 finished with value: 16.301551818847656 and parameters: {'n_estimators': 842, 'max_depth': 9, 'learning_rate': 0.043281727125970414, 'subsample': 0.6239065694583262, 'colsample_bytree': 0.5920818398151798, 'reg_alpha': 1.940381806049367, 'reg_lambda': 1.434452892615395}. Best is trial 26 with value: 6.382833957672119.\n",
      "[I 2025-08-13 15:33:01,416] Trial 39 finished with value: 14.156820297241211 and parameters: {'n_estimators': 969, 'max_depth': 5, 'learning_rate': 0.03749945022824514, 'subsample': 0.5348924843554734, 'colsample_bytree': 0.5426945348569389, 'reg_alpha': 0.22775159165825082, 'reg_lambda': 0.2739937784215411}. Best is trial 26 with value: 6.382833957672119.\n",
      "[I 2025-08-13 15:33:01,991] Trial 40 finished with value: 24.17546844482422 and parameters: {'n_estimators': 796, 'max_depth': 7, 'learning_rate': 0.010006104290849197, 'subsample': 0.5630059283556407, 'colsample_bytree': 0.6456664015722146, 'reg_alpha': 0.1171747265931127, 'reg_lambda': 0.7808720038929984}. Best is trial 26 with value: 6.382833957672119.\n",
      "[I 2025-08-13 15:33:02,570] Trial 41 finished with value: 7.152409553527832 and parameters: {'n_estimators': 701, 'max_depth': 7, 'learning_rate': 0.12396670747071041, 'subsample': 0.6287525653344547, 'colsample_bytree': 0.6221297596070352, 'reg_alpha': 0.03578748437456216, 'reg_lambda': 3.1704443447924464}. Best is trial 26 with value: 6.382833957672119.\n",
      "[I 2025-08-13 15:33:03,047] Trial 42 finished with value: 9.534353256225586 and parameters: {'n_estimators': 717, 'max_depth': 6, 'learning_rate': 0.11268941689182983, 'subsample': 0.5772869990808233, 'colsample_bytree': 0.6019511229910576, 'reg_alpha': 0.018037591547630547, 'reg_lambda': 2.006803929057419}. Best is trial 26 with value: 6.382833957672119.\n",
      "[I 2025-08-13 15:33:03,880] Trial 43 finished with value: 8.755834579467773 and parameters: {'n_estimators': 904, 'max_depth': 8, 'learning_rate': 0.06812398678387101, 'subsample': 0.6681647588329497, 'colsample_bytree': 0.6813119479049303, 'reg_alpha': 0.23365404354330965, 'reg_lambda': 6.543723660682426}. Best is trial 26 with value: 6.382833957672119.\n",
      "[I 2025-08-13 15:33:04,456] Trial 44 finished with value: 9.055012702941895 and parameters: {'n_estimators': 762, 'max_depth': 7, 'learning_rate': 0.14456024807896467, 'subsample': 0.7211903507996716, 'colsample_bytree': 0.5619016738631853, 'reg_alpha': 0.39809761844543884, 'reg_lambda': 3.3311198919872957}. Best is trial 26 with value: 6.382833957672119.\n",
      "[I 2025-08-13 15:33:05,192] Trial 45 finished with value: 10.835354804992676 and parameters: {'n_estimators': 828, 'max_depth': 8, 'learning_rate': 0.12179532999929772, 'subsample': 0.5361385973372165, 'colsample_bytree': 0.7347418035525376, 'reg_alpha': 0.15816164034898056, 'reg_lambda': 1.721822175660331}. Best is trial 26 with value: 6.382833957672119.\n",
      "[I 2025-08-13 15:33:05,622] Trial 46 finished with value: 10.32159423828125 and parameters: {'n_estimators': 608, 'max_depth': 6, 'learning_rate': 0.18674670678954264, 'subsample': 0.6207218370590601, 'colsample_bytree': 0.529375501997787, 'reg_alpha': 0.001901455168916415, 'reg_lambda': 1.0113173609841377}. Best is trial 26 with value: 6.382833957672119.\n",
      "[I 2025-08-13 15:33:06,259] Trial 47 finished with value: 12.148162841796875 and parameters: {'n_estimators': 874, 'max_depth': 7, 'learning_rate': 0.020625571051353254, 'subsample': 0.5856353664737789, 'colsample_bytree': 0.6391987918864916, 'reg_alpha': 0.08126841935282542, 'reg_lambda': 0.12774602300644505}. Best is trial 26 with value: 6.382833957672119.\n",
      "[I 2025-08-13 15:33:06,972] Trial 48 finished with value: 8.28854751586914 and parameters: {'n_estimators': 725, 'max_depth': 8, 'learning_rate': 0.055102645964790156, 'subsample': 0.7676039040026302, 'colsample_bytree': 0.6906133807953746, 'reg_alpha': 0.013935681787982152, 'reg_lambda': 2.4695375003784314}. Best is trial 26 with value: 6.382833957672119.\n",
      "[I 2025-08-13 15:33:08,081] Trial 49 finished with value: 7.549340724945068 and parameters: {'n_estimators': 958, 'max_depth': 9, 'learning_rate': 0.0997324667040815, 'subsample': 0.6117233953255959, 'colsample_bytree': 0.5732664467514609, 'reg_alpha': 0.04773926964764508, 'reg_lambda': 7.466477492705138}. Best is trial 26 with value: 6.382833957672119.\n",
      "[I 2025-08-13 15:33:09,433] Trial 50 finished with value: 7.983227252960205 and parameters: {'n_estimators': 997, 'max_depth': 10, 'learning_rate': 0.10236384395732408, 'subsample': 0.6739257188239824, 'colsample_bytree': 0.5685336658005342, 'reg_alpha': 0.05709537691390254, 'reg_lambda': 9.997696918590705}. Best is trial 26 with value: 6.382833957672119.\n",
      "[I 2025-08-13 15:33:10,676] Trial 51 finished with value: 7.692043781280518 and parameters: {'n_estimators': 999, 'max_depth': 10, 'learning_rate': 0.10541955221348674, 'subsample': 0.6716857933556742, 'colsample_bytree': 0.5702173720147609, 'reg_alpha': 0.050330935349570824, 'reg_lambda': 7.134432077873663}. Best is trial 26 with value: 6.382833957672119.\n",
      "[I 2025-08-13 15:33:11,919] Trial 52 finished with value: 7.982043743133545 and parameters: {'n_estimators': 963, 'max_depth': 10, 'learning_rate': 0.08153672625696222, 'subsample': 0.7277734010655916, 'colsample_bytree': 0.5021065163702217, 'reg_alpha': 0.041045692195683846, 'reg_lambda': 7.053031913281839}. Best is trial 26 with value: 6.382833957672119.\n",
      "[I 2025-08-13 15:33:13,029] Trial 53 finished with value: 8.935165405273438 and parameters: {'n_estimators': 926, 'max_depth': 10, 'learning_rate': 0.1481485008750271, 'subsample': 0.6938146194258012, 'colsample_bytree': 0.6058050266489259, 'reg_alpha': 0.02394895385610918, 'reg_lambda': 3.159141390122455}. Best is trial 26 with value: 6.382833957672119.\n",
      "[I 2025-08-13 15:33:14,010] Trial 54 finished with value: 8.610247611999512 and parameters: {'n_estimators': 879, 'max_depth': 9, 'learning_rate': 0.1274498164635304, 'subsample': 0.5458390640774404, 'colsample_bytree': 0.534075815436289, 'reg_alpha': 0.0025972979515701865, 'reg_lambda': 1.2683151348128137}. Best is trial 26 with value: 6.382833957672119.\n",
      "[I 2025-08-13 15:33:15,261] Trial 55 finished with value: 8.515631675720215 and parameters: {'n_estimators': 1000, 'max_depth': 10, 'learning_rate': 0.1620313558747779, 'subsample': 0.6313524790288509, 'colsample_bytree': 0.5711443098147841, 'reg_alpha': 0.014263159155158642, 'reg_lambda': 6.336645398247777}. Best is trial 26 with value: 6.382833957672119.\n",
      "[I 2025-08-13 15:33:16,250] Trial 56 finished with value: 7.875909328460693 and parameters: {'n_estimators': 814, 'max_depth': 9, 'learning_rate': 0.08129775516543365, 'subsample': 0.6555252407500634, 'colsample_bytree': 0.5896868656703284, 'reg_alpha': 0.0062380309474482235, 'reg_lambda': 2.228897906732126}. Best is trial 26 with value: 6.382833957672119.\n",
      "[I 2025-08-13 15:33:17,218] Trial 57 finished with value: 8.22272777557373 and parameters: {'n_estimators': 774, 'max_depth': 9, 'learning_rate': 0.10474393912727029, 'subsample': 0.5983643312235434, 'colsample_bytree': 0.6025280929609175, 'reg_alpha': 0.03107379544193628, 'reg_lambda': 7.452939446916027}. Best is trial 26 with value: 6.382833957672119.\n",
      "[I 2025-08-13 15:33:17,805] Trial 58 finished with value: 8.486985206604004 and parameters: {'n_estimators': 621, 'max_depth': 8, 'learning_rate': 0.20461904902483866, 'subsample': 0.7682088173636588, 'colsample_bytree': 0.5202170176005904, 'reg_alpha': 0.17752274022959738, 'reg_lambda': 3.6016149135101823}. Best is trial 26 with value: 6.382833957672119.\n",
      "[I 2025-08-13 15:33:18,538] Trial 59 finished with value: 14.96556568145752 and parameters: {'n_estimators': 509, 'max_depth': 10, 'learning_rate': 0.26579493976363283, 'subsample': 0.6678050879593345, 'colsample_bytree': 0.6588039367672414, 'reg_alpha': 0.04580142563357907, 'reg_lambda': 0.0030568237262486586}. Best is trial 26 with value: 6.382833957672119.\n",
      "[I 2025-08-13 15:33:18,953] Trial 60 finished with value: 14.124576568603516 and parameters: {'n_estimators': 919, 'max_depth': 4, 'learning_rate': 0.11268145462048854, 'subsample': 0.6058400372420625, 'colsample_bytree': 0.8090913676622775, 'reg_alpha': 0.5882016472666851, 'reg_lambda': 0.5343523438805171}. Best is trial 26 with value: 6.382833957672119.\n",
      "[I 2025-08-13 15:33:19,939] Trial 61 finished with value: 7.985631465911865 and parameters: {'n_estimators': 806, 'max_depth': 9, 'learning_rate': 0.08703203529489319, 'subsample': 0.701041968992241, 'colsample_bytree': 0.5871740040914667, 'reg_alpha': 0.005286298893631402, 'reg_lambda': 1.9101034526781024}. Best is trial 26 with value: 6.382833957672119.\n",
      "[I 2025-08-13 15:33:20,841] Trial 62 finished with value: 8.126723289489746 and parameters: {'n_estimators': 695, 'max_depth': 9, 'learning_rate': 0.0756290668438709, 'subsample': 0.6534641191791914, 'colsample_bytree': 0.6249733325647064, 'reg_alpha': 0.003324931108310258, 'reg_lambda': 5.222877395886936}. Best is trial 26 with value: 6.382833957672119.\n",
      "[I 2025-08-13 15:33:21,869] Trial 63 finished with value: 8.051572799682617 and parameters: {'n_estimators': 747, 'max_depth': 9, 'learning_rate': 0.09421389758080478, 'subsample': 0.6395277489399307, 'colsample_bytree': 0.5589191208283886, 'reg_alpha': 0.010674416510975214, 'reg_lambda': 2.1890521458591548}. Best is trial 26 with value: 6.382833957672119.\n",
      "[I 2025-08-13 15:33:22,887] Trial 64 finished with value: 6.243106842041016 and parameters: {'n_estimators': 963, 'max_depth': 8, 'learning_rate': 0.1591703603272259, 'subsample': 0.6637654867546742, 'colsample_bytree': 0.5987181764734868, 'reg_alpha': 0.0012186561727090825, 'reg_lambda': 8.26861868922187}. Best is trial 64 with value: 6.243106842041016.\n",
      "[I 2025-08-13 15:33:23,839] Trial 65 finished with value: 6.8186798095703125 and parameters: {'n_estimators': 967, 'max_depth': 8, 'learning_rate': 0.15636523379601847, 'subsample': 0.582143185061695, 'colsample_bytree': 0.539372248054506, 'reg_alpha': 0.0018643701994310563, 'reg_lambda': 8.379046253907074}. Best is trial 64 with value: 6.243106842041016.\n",
      "[I 2025-08-13 15:33:24,682] Trial 66 finished with value: 7.472027778625488 and parameters: {'n_estimators': 863, 'max_depth': 8, 'learning_rate': 0.16395708943785423, 'subsample': 0.5480180057475168, 'colsample_bytree': 0.5197710237567466, 'reg_alpha': 0.0010261351469854798, 'reg_lambda': 4.938415435840108}. Best is trial 64 with value: 6.243106842041016.\n",
      "[I 2025-08-13 15:33:25,525] Trial 67 finished with value: 8.450980186462402 and parameters: {'n_estimators': 869, 'max_depth': 8, 'learning_rate': 0.16654175626902953, 'subsample': 0.5003445150820015, 'colsample_bytree': 0.5409513721611273, 'reg_alpha': 0.001383533370309067, 'reg_lambda': 3.5801559625424435}. Best is trial 64 with value: 6.243106842041016.\n",
      "[I 2025-08-13 15:33:26,515] Trial 68 finished with value: 7.820857048034668 and parameters: {'n_estimators': 964, 'max_depth': 8, 'learning_rate': 0.19095351445235573, 'subsample': 0.5476476585221886, 'colsample_bytree': 0.5206609339754565, 'reg_alpha': 0.002331755938708443, 'reg_lambda': 4.609103805065674}. Best is trial 64 with value: 6.243106842041016.\n",
      "[I 2025-08-13 15:33:27,375] Trial 69 finished with value: 7.760319232940674 and parameters: {'n_estimators': 898, 'max_depth': 8, 'learning_rate': 0.21827847967019368, 'subsample': 0.5798422828847839, 'colsample_bytree': 0.5057843986620357, 'reg_alpha': 0.001730686541819331, 'reg_lambda': 9.95638919853207}. Best is trial 64 with value: 6.243106842041016.\n",
      "[I 2025-08-13 15:33:28,203] Trial 70 finished with value: 8.411994934082031 and parameters: {'n_estimators': 861, 'max_depth': 8, 'learning_rate': 0.13229705076421983, 'subsample': 0.5296862665483468, 'colsample_bytree': 0.5446810991016712, 'reg_alpha': 0.0035380486126481005, 'reg_lambda': 3.0538965021902906}. Best is trial 64 with value: 6.243106842041016.\n",
      "[I 2025-08-13 15:33:28,993] Trial 71 finished with value: 7.038760185241699 and parameters: {'n_estimators': 964, 'max_depth': 7, 'learning_rate': 0.15342065028081606, 'subsample': 0.5168416630738901, 'colsample_bytree': 0.6009770268123124, 'reg_alpha': 0.0010071363634838136, 'reg_lambda': 7.645819746975797}. Best is trial 64 with value: 6.243106842041016.\n",
      "[I 2025-08-13 15:33:29,786] Trial 72 finished with value: 7.279068946838379 and parameters: {'n_estimators': 965, 'max_depth': 7, 'learning_rate': 0.15132322714299234, 'subsample': 0.551705594274305, 'colsample_bytree': 0.5579859234971896, 'reg_alpha': 0.0010454764525383352, 'reg_lambda': 5.4337484548503845}. Best is trial 64 with value: 6.243106842041016.\n",
      "[I 2025-08-13 15:33:30,518] Trial 73 finished with value: 6.613902568817139 and parameters: {'n_estimators': 912, 'max_depth': 7, 'learning_rate': 0.15773571139071896, 'subsample': 0.5109468399645203, 'colsample_bytree': 0.5310689698626552, 'reg_alpha': 0.0011523264940428697, 'reg_lambda': 5.176825901952475}. Best is trial 64 with value: 6.243106842041016.\n",
      "[I 2025-08-13 15:33:31,298] Trial 74 finished with value: 5.554945468902588 and parameters: {'n_estimators': 933, 'max_depth': 7, 'learning_rate': 0.23337233997134246, 'subsample': 0.514345275195242, 'colsample_bytree': 0.5552444958233566, 'reg_alpha': 0.0014271301564419052, 'reg_lambda': 5.463398368193721}. Best is trial 74 with value: 5.554945468902588.\n",
      "[I 2025-08-13 15:33:32,080] Trial 75 finished with value: 9.137923240661621 and parameters: {'n_estimators': 925, 'max_depth': 7, 'learning_rate': 0.2853791511783628, 'subsample': 0.5226843231305928, 'colsample_bytree': 0.5971435578495696, 'reg_alpha': 0.0026291952492271736, 'reg_lambda': 3.917542375551386}. Best is trial 74 with value: 5.554945468902588.\n",
      "[I 2025-08-13 15:33:32,743] Trial 76 finished with value: 6.900149822235107 and parameters: {'n_estimators': 910, 'max_depth': 6, 'learning_rate': 0.23774227869849146, 'subsample': 0.5136834065930261, 'colsample_bytree': 0.8871116990608117, 'reg_alpha': 0.0014540904083647625, 'reg_lambda': 2.8425501333506715}. Best is trial 74 with value: 5.554945468902588.\n",
      "[I 2025-08-13 15:33:33,379] Trial 77 finished with value: 7.18380069732666 and parameters: {'n_estimators': 901, 'max_depth': 6, 'learning_rate': 0.23519848662172976, 'subsample': 0.5141474342623539, 'colsample_bytree': 0.9010071296647642, 'reg_alpha': 0.00132260150150498, 'reg_lambda': 8.3771588037522}. Best is trial 74 with value: 5.554945468902588.\n",
      "[I 2025-08-13 15:33:33,586] Trial 78 finished with value: 11.293778419494629 and parameters: {'n_estimators': 283, 'max_depth': 5, 'learning_rate': 0.20383765923778416, 'subsample': 0.5033880410181828, 'colsample_bytree': 0.9312978001142476, 'reg_alpha': 0.0018989270629978735, 'reg_lambda': 1.0319599937679673}. Best is trial 74 with value: 5.554945468902588.\n",
      "[I 2025-08-13 15:33:34,264] Trial 79 finished with value: 7.516254425048828 and parameters: {'n_estimators': 936, 'max_depth': 6, 'learning_rate': 0.2782961334754829, 'subsample': 0.5226107235892149, 'colsample_bytree': 0.872300536118043, 'reg_alpha': 0.0014605877189772009, 'reg_lambda': 1.5252600598237827}. Best is trial 74 with value: 5.554945468902588.\n",
      "[I 2025-08-13 15:33:34,948] Trial 80 finished with value: 8.442852020263672 and parameters: {'n_estimators': 975, 'max_depth': 6, 'learning_rate': 0.17729047154083866, 'subsample': 0.5645670557791118, 'colsample_bytree': 0.8375023985401888, 'reg_alpha': 0.002172814527122272, 'reg_lambda': 2.573842964066378}. Best is trial 74 with value: 5.554945468902588.\n",
      "[I 2025-08-13 15:33:35,747] Trial 81 finished with value: 7.922905921936035 and parameters: {'n_estimators': 899, 'max_depth': 7, 'learning_rate': 0.23111004695276494, 'subsample': 0.5776939271555572, 'colsample_bytree': 0.7870984519194679, 'reg_alpha': 0.003033490273619762, 'reg_lambda': 5.737849588848897}. Best is trial 74 with value: 5.554945468902588.\n",
      "[I 2025-08-13 15:33:36,561] Trial 82 finished with value: 8.381091117858887 and parameters: {'n_estimators': 945, 'max_depth': 7, 'learning_rate': 0.18578125946985974, 'subsample': 0.5312095474192393, 'colsample_bytree': 0.9679325972735816, 'reg_alpha': 0.0015899291409313717, 'reg_lambda': 2.8929614358349824}. Best is trial 74 with value: 5.554945468902588.\n",
      "[I 2025-08-13 15:33:37,334] Trial 83 finished with value: 7.595571041107178 and parameters: {'n_estimators': 914, 'max_depth': 7, 'learning_rate': 0.20651167773747942, 'subsample': 0.5107131368449014, 'colsample_bytree': 0.5359128004306748, 'reg_alpha': 0.0011748132655383893, 'reg_lambda': 4.179950509392886}. Best is trial 74 with value: 5.554945468902588.\n",
      "[I 2025-08-13 15:33:37,946] Trial 84 finished with value: 10.932439804077148 and parameters: {'n_estimators': 833, 'max_depth': 6, 'learning_rate': 0.24118476983573864, 'subsample': 0.5910822294457245, 'colsample_bytree': 0.6144277362601006, 'reg_alpha': 0.004207839508665831, 'reg_lambda': 0.04244929205375548}. Best is trial 74 with value: 5.554945468902588.\n",
      "[I 2025-08-13 15:33:38,758] Trial 85 finished with value: 6.601022720336914 and parameters: {'n_estimators': 882, 'max_depth': 7, 'learning_rate': 0.2617939425442811, 'subsample': 0.5729794370292207, 'colsample_bytree': 0.5789253405778194, 'reg_alpha': 0.0020015505618833306, 'reg_lambda': 7.465203589647417}. Best is trial 74 with value: 5.554945468902588.\n",
      "[I 2025-08-13 15:33:39,509] Trial 86 finished with value: 5.915051460266113 and parameters: {'n_estimators': 887, 'max_depth': 7, 'learning_rate': 0.24827127713958536, 'subsample': 0.55990113190701, 'colsample_bytree': 0.5804221781626709, 'reg_alpha': 0.002010247582261277, 'reg_lambda': 8.33494845599432}. Best is trial 74 with value: 5.554945468902588.\n",
      "[I 2025-08-13 15:33:40,299] Trial 87 finished with value: 7.148193836212158 and parameters: {'n_estimators': 983, 'max_depth': 7, 'learning_rate': 0.2871556560269365, 'subsample': 0.5202345776280417, 'colsample_bytree': 0.5561982437715238, 'reg_alpha': 0.0020903719061286974, 'reg_lambda': 8.649935218997053}. Best is trial 74 with value: 5.554945468902588.\n",
      "[I 2025-08-13 15:33:41,099] Trial 88 finished with value: 7.361002445220947 and parameters: {'n_estimators': 944, 'max_depth': 7, 'learning_rate': 0.264188128940173, 'subsample': 0.5529087595347068, 'colsample_bytree': 0.58035638723023, 'reg_alpha': 0.002879351514356119, 'reg_lambda': 6.347325084219176}. Best is trial 74 with value: 5.554945468902588.\n",
      "[I 2025-08-13 15:33:41,824] Trial 89 finished with value: 7.677925109863281 and parameters: {'n_estimators': 886, 'max_depth': 7, 'learning_rate': 0.2601852719381827, 'subsample': 0.5709072581408502, 'colsample_bytree': 0.5478153893963128, 'reg_alpha': 0.0016685176706864955, 'reg_lambda': 8.103471416743819}. Best is trial 74 with value: 5.554945468902588.\n",
      "[I 2025-08-13 15:33:42,615] Trial 90 finished with value: 12.817416191101074 and parameters: {'n_estimators': 845, 'max_depth': 8, 'learning_rate': 0.2986100626406156, 'subsample': 0.5314408684505268, 'colsample_bytree': 0.5318015517893213, 'reg_alpha': 0.006471010479240036, 'reg_lambda': 0.012008925881224115}. Best is trial 74 with value: 5.554945468902588.\n",
      "[I 2025-08-13 15:33:43,226] Trial 91 finished with value: 6.948261737823486 and parameters: {'n_estimators': 888, 'max_depth': 6, 'learning_rate': 0.22500625856344125, 'subsample': 0.5601089431888413, 'colsample_bytree': 0.5638196120582311, 'reg_alpha': 0.0013485379612011227, 'reg_lambda': 4.682199055147697}. Best is trial 74 with value: 5.554945468902588.\n",
      "[I 2025-08-13 15:33:43,855] Trial 92 finished with value: 8.170602798461914 and parameters: {'n_estimators': 920, 'max_depth': 6, 'learning_rate': 0.21488642471321162, 'subsample': 0.5405531625561474, 'colsample_bytree': 0.5809532995601485, 'reg_alpha': 0.0012590345367847315, 'reg_lambda': 4.710594550740091}. Best is trial 74 with value: 5.554945468902588.\n",
      "[I 2025-08-13 15:33:44,524] Trial 93 finished with value: 6.6867451667785645 and parameters: {'n_estimators': 818, 'max_depth': 7, 'learning_rate': 0.18511195629102092, 'subsample': 0.5127113730280269, 'colsample_bytree': 0.5651623171031471, 'reg_alpha': 0.0018694737055388606, 'reg_lambda': 6.2915009732208365}. Best is trial 74 with value: 5.554945468902588.\n",
      "[I 2025-08-13 15:33:45,213] Trial 94 finished with value: 5.871964454650879 and parameters: {'n_estimators': 815, 'max_depth': 7, 'learning_rate': 0.24083862103149972, 'subsample': 0.5542188302471577, 'colsample_bytree': 0.5140416158915421, 'reg_alpha': 0.0021562145133248983, 'reg_lambda': 5.880236063835723}. Best is trial 74 with value: 5.554945468902588.\n",
      "[I 2025-08-13 15:33:45,891] Trial 95 finished with value: 8.30470085144043 and parameters: {'n_estimators': 813, 'max_depth': 7, 'learning_rate': 0.19412895013866, 'subsample': 0.5580190695869086, 'colsample_bytree': 0.5286910207844444, 'reg_alpha': 0.004986740124064747, 'reg_lambda': 6.267153660625332}. Best is trial 74 with value: 5.554945468902588.\n",
      "[I 2025-08-13 15:33:46,539] Trial 96 finished with value: 8.113855361938477 and parameters: {'n_estimators': 772, 'max_depth': 7, 'learning_rate': 0.17733519028954786, 'subsample': 0.5730063260532536, 'colsample_bytree': 0.5484481503545486, 'reg_alpha': 0.002177061335110281, 'reg_lambda': 5.840476647069692}. Best is trial 74 with value: 5.554945468902588.\n",
      "[I 2025-08-13 15:33:47,245] Trial 97 finished with value: 6.354440689086914 and parameters: {'n_estimators': 860, 'max_depth': 7, 'learning_rate': 0.25503193544760827, 'subsample': 0.5082298178074989, 'colsample_bytree': 0.5146043276069303, 'reg_alpha': 0.0017260389093298298, 'reg_lambda': 9.704466918842057}. Best is trial 74 with value: 5.554945468902588.\n",
      "[I 2025-08-13 15:33:48,163] Trial 98 finished with value: 5.95203161239624 and parameters: {'n_estimators': 824, 'max_depth': 8, 'learning_rate': 0.2526308435509806, 'subsample': 0.5415547983869692, 'colsample_bytree': 0.5164123382896377, 'reg_alpha': 0.003704975623382557, 'reg_lambda': 7.93932133588714}. Best is trial 74 with value: 5.554945468902588.\n",
      "[I 2025-08-13 15:33:48,859] Trial 99 finished with value: 5.895057201385498 and parameters: {'n_estimators': 821, 'max_depth': 7, 'learning_rate': 0.2617785195566939, 'subsample': 0.5364737123429264, 'colsample_bytree': 0.5082289802161998, 'reg_alpha': 0.0038781005396670773, 'reg_lambda': 9.386253787455425}. Best is trial 74 with value: 5.554945468902588.\n"
     ]
    },
    {
     "name": "stdout",
     "output_type": "stream",
     "text": [
      "Best trial params: {'n_estimators': 933, 'max_depth': 7, 'learning_rate': 0.23337233997134246, 'subsample': 0.514345275195242, 'colsample_bytree': 0.5552444958233566, 'reg_alpha': 0.0014271301564419052, 'reg_lambda': 5.463398368193721}\n",
      "Final Test MAE: 1.308, RMSE: 8.863, R² Score: 0.7937\n"
     ]
    }
   ],
   "source": [
    "import optuna\n",
    "import numpy as np\n",
    "\n",
    "from sklearn.model_selection import train_test_split\n",
    "from sklearn.pipeline import Pipeline\n",
    "from sklearn.compose import ColumnTransformer\n",
    "from sklearn.impute import SimpleImputer\n",
    "from sklearn.preprocessing import StandardScaler, OneHotEncoder\n",
    "from sklearn.compose import TransformedTargetRegressor\n",
    "from sklearn.metrics import mean_squared_error, mean_absolute_error, r2_score\n",
    "\n",
    "from xgboost import XGBRegressor\n",
    "\n",
    "#Feature List\n",
    "num_cols = ['AgeOnAdmission']\n",
    "low_card_cols = ['AdmissionMethod','SourceOfAdmission','EthnicCategory','Chapter_Number' ,'IMD_Decile','month','weekend','StartSexofPatientsCode','time_of_day', 'IntendedManagement', 'PriorityType']\n",
    "high_card_cols = ['PrimaryDiagnosisICD']\n",
    "\n",
    "#Preprocessing Pipelines\n",
    "num_pipe = Pipeline([\n",
    "    ('scaler', StandardScaler())\n",
    "])\n",
    "low_card_pipe = Pipeline([\n",
    "    ('ohe', OneHotEncoder(handle_unknown='ignore'))\n",
    "])\n",
    "\n",
    "\n",
    "high_card_pipe = Pipeline([\n",
    "    ('ohe', OneHotEncoder(handle_unknown='ignore', max_categories=250))\n",
    "])\n",
    "\n",
    "preprocessor = ColumnTransformer([\n",
    "    ('num', num_pipe, num_cols),\n",
    "    ('low_ohe', low_card_pipe, low_card_cols),\n",
    "    ('high_ohe', high_card_pipe, high_card_cols)\n",
    "])\n",
    "\n",
    "#Data Split\n",
    "target_col = 'Los'\n",
    "X = data_filtered.drop(columns=[target_col])\n",
    "y = data_filtered[target_col]\n",
    "\n",
    "X_train, X_test, y_train, y_test = train_test_split(\n",
    "    X, y, test_size=0.2, random_state=42\n",
    ")\n",
    "\n",
    "#Optuna Objective Function\n",
    "def objective(trial):\n",
    "    params = {\n",
    "        'n_estimators': trial.suggest_int('n_estimators', 100, 1000),\n",
    "        'max_depth': trial.suggest_int('max_depth', 3, 10),\n",
    "        'learning_rate': trial.suggest_float('learning_rate', 0.01, 0.3, log=True),\n",
    "        'subsample': trial.suggest_float('subsample', 0.5, 1.0),\n",
    "        'colsample_bytree': trial.suggest_float('colsample_bytree', 0.5, 1.0),\n",
    "        'reg_alpha': trial.suggest_float('reg_alpha', 1e-3, 10.0, log=True),\n",
    "        'reg_lambda': trial.suggest_float('reg_lambda', 1e-3, 10.0, log=True),\n",
    "        'random_state': 42,\n",
    "        'n_jobs': -1\n",
    "    }\n",
    "\n",
    "    xgb = XGBRegressor(**params)\n",
    "\n",
    "    pipeline = Pipeline([\n",
    "        ('preprocessor', preprocessor),\n",
    "        ('model', xgb)\n",
    "    ])\n",
    "\n",
    "    regressor = TransformedTargetRegressor(\n",
    "        regressor=pipeline,\n",
    "        func=np.log1p,\n",
    "        inverse_func=np.expm1\n",
    "    )\n",
    "\n",
    "    regressor.fit(X_train, y_train)\n",
    "    y_pred = regressor.predict(X_test)\n",
    "    return mean_squared_error(y_test, y_pred)\n",
    "\n",
    "#Run Optuna Study\n",
    "study = optuna.create_study(direction='minimize')\n",
    "study.optimize(objective, n_trials=50)\n",
    "\n",
    "print(\"Best trial params:\", study.best_trial.params)\n",
    "\n",
    "#Train Final Model\n",
    "best_params = study.best_trial.params\n",
    "final_model = Pipeline([\n",
    "    ('preprocessor', preprocessor),\n",
    "    ('model', XGBRegressor(**best_params))\n",
    "])\n",
    "\n",
    "regressor = TransformedTargetRegressor(\n",
    "    regressor=final_model,\n",
    "    func=np.log1p,\n",
    "    inverse_func=np.expm1\n",
    ")\n",
    "\n",
    "regressor.fit(X_train, y_train)\n",
    "y_pred = regressor.predict(X_test)\n",
    "\n",
    "r2 = r2_score(y_test, y_pred)\n",
    "mae = mean_absolute_error(y_test, y_pred)\n",
    "rmse = mean_squared_error(y_test, y_pred)\n",
    "\n",
    "print(f\"Final Test MAE: {mae:.3f}, RMSE: {rmse:.3f}, R² Score: {r2:.4f}\")\n"
   ]
  },
  {
   "cell_type": "code",
   "execution_count": 90,
   "metadata": {},
   "outputs": [
    {
     "name": "stderr",
     "output_type": "stream",
     "text": [
      "<>:4: SyntaxWarning:\n",
      "\n",
      "invalid escape sequence '\\D'\n",
      "\n",
      "<>:7: SyntaxWarning:\n",
      "\n",
      "invalid escape sequence '\\D'\n",
      "\n",
      "<>:4: SyntaxWarning:\n",
      "\n",
      "invalid escape sequence '\\D'\n",
      "\n",
      "<>:7: SyntaxWarning:\n",
      "\n",
      "invalid escape sequence '\\D'\n",
      "\n",
      "C:\\Users\\jawad.iqbal\\AppData\\Local\\Temp\\ipykernel_8080\\2955129477.py:4: SyntaxWarning:\n",
      "\n",
      "invalid escape sequence '\\D'\n",
      "\n",
      "C:\\Users\\jawad.iqbal\\AppData\\Local\\Temp\\ipykernel_8080\\2955129477.py:7: SyntaxWarning:\n",
      "\n",
      "invalid escape sequence '\\D'\n",
      "\n",
      "C:\\Users\\jawad.iqbal\\AppData\\Local\\Temp\\ipykernel_8080\\2955129477.py:7: UserWarning:\n",
      "\n",
      "pandas only supports SQLAlchemy connectable (engine/connection) or database string URI or sqlite3 DBAPI2 connection. Other DBAPI2 objects are not tested. Please consider using SQLAlchemy.\n",
      "\n"
     ]
    }
   ],
   "source": [
    "import pandas as pd\n",
    "import sqlalchemy as sa\n",
    "\n",
    "engine = sa.create_engine(\"mssql+pyodbc:///?odbc_connect= DRIVER={SQL Server};SERVER=mph-eprprddwh1\\DWHPRD;Trusted_Connection=yes;\")\n",
    "\n",
    "with engine.connect() as conn:\n",
    "   test_df = pd.read_sql(open(\"S:\\Data Science\\sandboxes\\Jawad\\patient_LOS_project\\elect_test_sql.sql\").read(), con=conn.connection)"
   ]
  },
  {
   "cell_type": "code",
   "execution_count": 91,
   "metadata": {},
   "outputs": [
    {
     "data": {
      "text/plain": [
       "459"
      ]
     },
     "execution_count": 91,
     "metadata": {},
     "output_type": "execute_result"
    }
   ],
   "source": [
    "len(test_df)"
   ]
  },
  {
   "cell_type": "code",
   "execution_count": 94,
   "metadata": {},
   "outputs": [],
   "source": [
    "test_elect = test_df.copy()"
   ]
  },
  {
   "cell_type": "code",
   "execution_count": 95,
   "metadata": {},
   "outputs": [],
   "source": [
    "test_elect = test_elect.drop_duplicates()"
   ]
  },
  {
   "cell_type": "code",
   "execution_count": 96,
   "metadata": {},
   "outputs": [],
   "source": [
    "test_elect = test_elect.dropna()"
   ]
  },
  {
   "cell_type": "code",
   "execution_count": 97,
   "metadata": {},
   "outputs": [],
   "source": [
    "test_elect = test_elect.drop(columns=['admission_datetime'])"
   ]
  },
  {
   "cell_type": "code",
   "execution_count": 98,
   "metadata": {},
   "outputs": [
    {
     "data": {
      "text/plain": [
       "162"
      ]
     },
     "execution_count": 98,
     "metadata": {},
     "output_type": "execute_result"
    }
   ],
   "source": [
    "len(test_elect)"
   ]
  },
  {
   "cell_type": "code",
   "execution_count": 103,
   "metadata": {},
   "outputs": [
    {
     "data": {
      "text/plain": [
       "time_of_day\n",
       "2    99\n",
       "1    63\n",
       "Name: count, dtype: int64"
      ]
     },
     "execution_count": 103,
     "metadata": {},
     "output_type": "execute_result"
    }
   ],
   "source": [
    "test_elect['time_of_day'].value_counts()"
   ]
  },
  {
   "cell_type": "code",
   "execution_count": 101,
   "metadata": {},
   "outputs": [],
   "source": [
    "elect_predictions = regressor.predict(test_elect)"
   ]
  },
  {
   "cell_type": "code",
   "execution_count": 104,
   "metadata": {},
   "outputs": [
    {
     "name": "stdout",
     "output_type": "stream",
     "text": [
      "Unseen Test MAE: 2.248, RMSE: 4.304, R² Score: -0.7770\n"
     ]
    }
   ],
   "source": [
    "t_r2 = r2_score(test_elect['Los'], elect_predictions)\n",
    "t_mae = mean_absolute_error(test_elect['Los'], elect_predictions)\n",
    "t_rmse = np.sqrt(mean_squared_error(test_elect['Los'], elect_predictions))\n",
    "\n",
    "print(f\"Unseen Test MAE: {t_mae:.3f}, RMSE: {t_rmse:.3f}, R² Score: {t_r2:.4f}\")"
   ]
  },
  {
   "cell_type": "code",
   "execution_count": 105,
   "metadata": {},
   "outputs": [
    {
     "data": {
      "image/png": "[encoded data removed]",
      "text/plain": [
       "<Figure size 1400x600 with 1 Axes>"
      ]
     },
     "metadata": {},
     "output_type": "display_data"
    }
   ],
   "source": [
    "\n",
    "import matplotlib.pyplot as plt\n",
    "import numpy as np\n",
    "\n",
    "# Convert to numpy arrays for indexing\n",
    "y_test_array = np.array(test_elect['Los'][:50])\n",
    "y_pred_array = np.array(elect_predictions[:50])\n",
    "\n",
    "# Create an index for each patient\n",
    "indices = np.arange(len(y_test_array))\n",
    "\n",
    "# Plot actual vs predicted as line plot\n",
    "plt.figure(figsize=(14, 6))\n",
    "plt.plot(indices, y_test_array, label='Actual LoS', marker='o')\n",
    "plt.plot(indices, y_pred_array, label='Predicted LoS', marker='x')\n",
    "plt.xlabel('Patient Index')\n",
    "plt.ylabel('Length of Stay (days)')\n",
    "plt.title('Actual vs Predicted Length of Stay for Test Patients')\n",
    "plt.legend()\n",
    "plt.grid(True)\n"
   ]
  }
 ],
 "metadata": {
  "kernelspec": {
   "display_name": "Python 3",
   "language": "python",
   "name": "python3"
  },
  "language_info": {
   "codemirror_mode": {
    "name": "ipython",
    "version": 3
   },
   "file_extension": ".py",
   "mimetype": "text/x-python",
   "name": "python",
   "nbconvert_exporter": "python",
   "pygments_lexer": "ipython3",
   "version": "3.12.4"
  },
  "orig_nbformat": 4
 },
 "nbformat": 4,
 "nbformat_minor": 2
}
